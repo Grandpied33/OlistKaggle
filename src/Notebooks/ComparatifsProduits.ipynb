{
 "cells": [
  {
   "cell_type": "code",
   "execution_count": 84,
   "outputs": [],
   "source": [
    "#Imports\n",
    "import pandas as pd\n",
    "import numpy as np\n",
    "import seaborn as sns\n",
    "\n",
    "import matplotlib.pyplot as plt\n",
    "import os\n"
   ],
   "metadata": {
    "collapsed": false,
    "pycharm": {
     "name": "#%%\n",
     "is_executing": false
    }
   }
  },
  {
   "cell_type": "code",
   "execution_count": 85,
   "metadata": {
    "collapsed": true,
    "pycharm": {
     "is_executing": false
    }
   },
   "outputs": [],
   "source": [
    "df_olist_customers = pd.read_csv('../../data/olist_customers_dataset.csv')\n",
    "df_olist_geolocation = pd.read_csv('../../data/olist_geolocation_dataset.csv')\n",
    "df_olist_order_items = pd.read_csv('../../data/olist_order_items_dataset.csv')\n",
    "df_olist_order_payments = pd.read_csv('../../data/olist_order_payments_dataset.csv')\n",
    "df_olist_order_review = pd.read_csv('../../data/olist_order_reviews_dataset.csv')\n",
    "df_olist_orders = pd.read_csv('../../data/olist_orders_dataset.csv')\n",
    "df_olist_products = pd.read_csv('../../data/olist_products_dataset.csv')\n",
    "df_olist_sellers = pd.read_csv('../../data/olist_sellers_dataset.csv')\n",
    "df_prodct_category = pd.read_csv('../../data/product_category_name_translation.csv')"
   ]
  },
  {
   "cell_type": "code",
   "execution_count": 86,
   "outputs": [],
   "source": [
    "def dt_to_date(df, cols):\n",
    "    for col in cols : \n",
    "        df[col] = pd.to_datetime(df[col]).dt.date"
   ],
   "metadata": {
    "collapsed": false,
    "pycharm": {
     "name": "#%%\n",
     "is_executing": false
    }
   }
  },
  {
   "cell_type": "code",
   "execution_count": 87,
   "outputs": [
    {
     "data": {
      "text/plain": "                             product_id              product_category_name  \\\n0      1e9e8ef04dbcff4541ed26657ea517e5                         perfumaria   \n1      3aa071139cb16b67ca9e5dea641aaa2f                              artes   \n2      96bd76ec8810374ed1b65e291975717f                      esporte_lazer   \n3      cef67bcfe19066a932b7673e239eb23d                              bebes   \n4      9dc1a7de274444849c219cff195d0b71              utilidades_domesticas   \n...                                 ...                                ...   \n32946  a0b7d5a992ccda646f2d34e418fff5a0                   moveis_decoracao   \n32947  bf4538d88321d0fd4412a93c974510e6  construcao_ferramentas_iluminacao   \n32948  9a7c6041fa9592d9d9ef6cfe62a71f8c                    cama_mesa_banho   \n32949  83808703fc0706a22e264b9d75f04a2e             informatica_acessorios   \n32950  106392145fca363410d287a815be6de4                    cama_mesa_banho   \n\n       product_name_lenght  product_description_lenght  product_photos_qty  \\\n0                     40.0                       287.0                 1.0   \n1                     44.0                       276.0                 1.0   \n2                     46.0                       250.0                 1.0   \n3                     27.0                       261.0                 1.0   \n4                     37.0                       402.0                 4.0   \n...                    ...                         ...                 ...   \n32946                 45.0                        67.0                 2.0   \n32947                 41.0                       971.0                 1.0   \n32948                 50.0                       799.0                 1.0   \n32949                 60.0                       156.0                 2.0   \n32950                 58.0                       309.0                 1.0   \n\n       product_weight_g  product_length_cm  product_height_cm  \\\n0                 225.0               16.0               10.0   \n1                1000.0               30.0               18.0   \n2                 154.0               18.0                9.0   \n3                 371.0               26.0                4.0   \n4                 625.0               20.0               17.0   \n...                 ...                ...                ...   \n32946           12300.0               40.0               40.0   \n32947            1700.0               16.0               19.0   \n32948            1400.0               27.0                7.0   \n32949             700.0               31.0               13.0   \n32950            2083.0               12.0                2.0   \n\n       product_width_cm  \n0                  14.0  \n1                  20.0  \n2                  15.0  \n3                  26.0  \n4                  13.0  \n...                 ...  \n32946              40.0  \n32947              16.0  \n32948              27.0  \n32949              20.0  \n32950               7.0  \n\n[32951 rows x 9 columns]",
      "text/html": "<div>\n<style scoped>\n    .dataframe tbody tr th:only-of-type {\n        vertical-align: middle;\n    }\n\n    .dataframe tbody tr th {\n        vertical-align: top;\n    }\n\n    .dataframe thead th {\n        text-align: right;\n    }\n</style>\n<table border=\"1\" class=\"dataframe\">\n  <thead>\n    <tr style=\"text-align: right;\">\n      <th></th>\n      <th>product_id</th>\n      <th>product_category_name</th>\n      <th>product_name_lenght</th>\n      <th>product_description_lenght</th>\n      <th>product_photos_qty</th>\n      <th>product_weight_g</th>\n      <th>product_length_cm</th>\n      <th>product_height_cm</th>\n      <th>product_width_cm</th>\n    </tr>\n  </thead>\n  <tbody>\n    <tr>\n      <th>0</th>\n      <td>1e9e8ef04dbcff4541ed26657ea517e5</td>\n      <td>perfumaria</td>\n      <td>40.0</td>\n      <td>287.0</td>\n      <td>1.0</td>\n      <td>225.0</td>\n      <td>16.0</td>\n      <td>10.0</td>\n      <td>14.0</td>\n    </tr>\n    <tr>\n      <th>1</th>\n      <td>3aa071139cb16b67ca9e5dea641aaa2f</td>\n      <td>artes</td>\n      <td>44.0</td>\n      <td>276.0</td>\n      <td>1.0</td>\n      <td>1000.0</td>\n      <td>30.0</td>\n      <td>18.0</td>\n      <td>20.0</td>\n    </tr>\n    <tr>\n      <th>2</th>\n      <td>96bd76ec8810374ed1b65e291975717f</td>\n      <td>esporte_lazer</td>\n      <td>46.0</td>\n      <td>250.0</td>\n      <td>1.0</td>\n      <td>154.0</td>\n      <td>18.0</td>\n      <td>9.0</td>\n      <td>15.0</td>\n    </tr>\n    <tr>\n      <th>3</th>\n      <td>cef67bcfe19066a932b7673e239eb23d</td>\n      <td>bebes</td>\n      <td>27.0</td>\n      <td>261.0</td>\n      <td>1.0</td>\n      <td>371.0</td>\n      <td>26.0</td>\n      <td>4.0</td>\n      <td>26.0</td>\n    </tr>\n    <tr>\n      <th>4</th>\n      <td>9dc1a7de274444849c219cff195d0b71</td>\n      <td>utilidades_domesticas</td>\n      <td>37.0</td>\n      <td>402.0</td>\n      <td>4.0</td>\n      <td>625.0</td>\n      <td>20.0</td>\n      <td>17.0</td>\n      <td>13.0</td>\n    </tr>\n    <tr>\n      <th>...</th>\n      <td>...</td>\n      <td>...</td>\n      <td>...</td>\n      <td>...</td>\n      <td>...</td>\n      <td>...</td>\n      <td>...</td>\n      <td>...</td>\n      <td>...</td>\n    </tr>\n    <tr>\n      <th>32946</th>\n      <td>a0b7d5a992ccda646f2d34e418fff5a0</td>\n      <td>moveis_decoracao</td>\n      <td>45.0</td>\n      <td>67.0</td>\n      <td>2.0</td>\n      <td>12300.0</td>\n      <td>40.0</td>\n      <td>40.0</td>\n      <td>40.0</td>\n    </tr>\n    <tr>\n      <th>32947</th>\n      <td>bf4538d88321d0fd4412a93c974510e6</td>\n      <td>construcao_ferramentas_iluminacao</td>\n      <td>41.0</td>\n      <td>971.0</td>\n      <td>1.0</td>\n      <td>1700.0</td>\n      <td>16.0</td>\n      <td>19.0</td>\n      <td>16.0</td>\n    </tr>\n    <tr>\n      <th>32948</th>\n      <td>9a7c6041fa9592d9d9ef6cfe62a71f8c</td>\n      <td>cama_mesa_banho</td>\n      <td>50.0</td>\n      <td>799.0</td>\n      <td>1.0</td>\n      <td>1400.0</td>\n      <td>27.0</td>\n      <td>7.0</td>\n      <td>27.0</td>\n    </tr>\n    <tr>\n      <th>32949</th>\n      <td>83808703fc0706a22e264b9d75f04a2e</td>\n      <td>informatica_acessorios</td>\n      <td>60.0</td>\n      <td>156.0</td>\n      <td>2.0</td>\n      <td>700.0</td>\n      <td>31.0</td>\n      <td>13.0</td>\n      <td>20.0</td>\n    </tr>\n    <tr>\n      <th>32950</th>\n      <td>106392145fca363410d287a815be6de4</td>\n      <td>cama_mesa_banho</td>\n      <td>58.0</td>\n      <td>309.0</td>\n      <td>1.0</td>\n      <td>2083.0</td>\n      <td>12.0</td>\n      <td>2.0</td>\n      <td>7.0</td>\n    </tr>\n  </tbody>\n</table>\n<p>32951 rows × 9 columns</p>\n</div>"
     },
     "metadata": {},
     "output_type": "execute_result",
     "execution_count": 87
    }
   ],
   "source": [
    "df_olist_products"
   ],
   "metadata": {
    "collapsed": false,
    "pycharm": {
     "name": "#%%\n",
     "is_executing": false
    }
   }
  },
  {
   "cell_type": "code",
   "execution_count": 88,
   "outputs": [
    {
     "data": {
      "text/plain": "                               order_id                       customer_id  \\\n0      e481f51cbdc54678b7cc49136f2d6af7  9ef432eb6251297304e76186b10a928d   \n1      53cdb2fc8bc7dce0b6741e2150273451  b0830fb4747a6c6d20dea0b8c802d7ef   \n2      47770eb9100c2d0c44946d9cf07ec65d  41ce2a54c0b03bf3443c3d931a367089   \n3      949d5b44dbf5de918fe9c16f97b45f8a  f88197465ea7920adcdbec7375364d82   \n4      ad21c59c0840e6cb83a9ceb5573f8159  8ab97904e6daea8866dbdbc4fb7aad2c   \n...                                 ...                               ...   \n99436  9c5dedf39a927c1b2549525ed64a053c  39bd1228ee8140590ac3aca26f2dfe00   \n99437  63943bddc261676b46f01ca7ac2f7bd8  1fca14ff2861355f6e5f14306ff977a7   \n99438  83c1379a015df1e13d02aae0204711ab  1aa71eb042121263aafbe80c1b562c9c   \n99439  11c177c8e97725db2631073c19f07b62  b331b74b18dc79bcdf6532d51e1637c1   \n99440  66dea50a8b16d9b4dee7af250b4be1a5  edb027a75a1449115f6b43211ae02a24   \n\n      order_status order_purchase_timestamp    order_approved_at  \\\n0        delivered      2017-10-02 10:56:33  2017-10-02 11:07:15   \n1        delivered      2018-07-24 20:41:37  2018-07-26 03:24:27   \n2        delivered      2018-08-08 08:38:49  2018-08-08 08:55:23   \n3        delivered      2017-11-18 19:28:06  2017-11-18 19:45:59   \n4        delivered      2018-02-13 21:18:39  2018-02-13 22:20:29   \n...            ...                      ...                  ...   \n99436    delivered      2017-03-09 09:54:05  2017-03-09 09:54:05   \n99437    delivered      2018-02-06 12:58:58  2018-02-06 13:10:37   \n99438    delivered      2017-08-27 14:46:43  2017-08-27 15:04:16   \n99439    delivered      2018-01-08 21:28:27  2018-01-08 21:36:21   \n99440    delivered      2018-03-08 20:57:30  2018-03-09 11:20:28   \n\n      order_delivered_carrier_date order_delivered_customer_date  \\\n0              2017-10-04 19:55:00           2017-10-10 21:25:13   \n1              2018-07-26 14:31:00           2018-08-07 15:27:45   \n2              2018-08-08 13:50:00           2018-08-17 18:06:29   \n3              2017-11-22 13:39:59           2017-12-02 00:28:42   \n4              2018-02-14 19:46:34           2018-02-16 18:17:02   \n...                            ...                           ...   \n99436          2017-03-10 11:18:03           2017-03-17 15:08:01   \n99437          2018-02-07 23:22:42           2018-02-28 17:37:56   \n99438          2017-08-28 20:52:26           2017-09-21 11:24:17   \n99439          2018-01-12 15:35:03           2018-01-25 23:32:54   \n99440          2018-03-09 22:11:59           2018-03-16 13:08:30   \n\n      order_estimated_delivery_date  \n0               2017-10-18 00:00:00  \n1               2018-08-13 00:00:00  \n2               2018-09-04 00:00:00  \n3               2017-12-15 00:00:00  \n4               2018-02-26 00:00:00  \n...                             ...  \n99436           2017-03-28 00:00:00  \n99437           2018-03-02 00:00:00  \n99438           2017-09-27 00:00:00  \n99439           2018-02-15 00:00:00  \n99440           2018-04-03 00:00:00  \n\n[99441 rows x 8 columns]",
      "text/html": "<div>\n<style scoped>\n    .dataframe tbody tr th:only-of-type {\n        vertical-align: middle;\n    }\n\n    .dataframe tbody tr th {\n        vertical-align: top;\n    }\n\n    .dataframe thead th {\n        text-align: right;\n    }\n</style>\n<table border=\"1\" class=\"dataframe\">\n  <thead>\n    <tr style=\"text-align: right;\">\n      <th></th>\n      <th>order_id</th>\n      <th>customer_id</th>\n      <th>order_status</th>\n      <th>order_purchase_timestamp</th>\n      <th>order_approved_at</th>\n      <th>order_delivered_carrier_date</th>\n      <th>order_delivered_customer_date</th>\n      <th>order_estimated_delivery_date</th>\n    </tr>\n  </thead>\n  <tbody>\n    <tr>\n      <th>0</th>\n      <td>e481f51cbdc54678b7cc49136f2d6af7</td>\n      <td>9ef432eb6251297304e76186b10a928d</td>\n      <td>delivered</td>\n      <td>2017-10-02 10:56:33</td>\n      <td>2017-10-02 11:07:15</td>\n      <td>2017-10-04 19:55:00</td>\n      <td>2017-10-10 21:25:13</td>\n      <td>2017-10-18 00:00:00</td>\n    </tr>\n    <tr>\n      <th>1</th>\n      <td>53cdb2fc8bc7dce0b6741e2150273451</td>\n      <td>b0830fb4747a6c6d20dea0b8c802d7ef</td>\n      <td>delivered</td>\n      <td>2018-07-24 20:41:37</td>\n      <td>2018-07-26 03:24:27</td>\n      <td>2018-07-26 14:31:00</td>\n      <td>2018-08-07 15:27:45</td>\n      <td>2018-08-13 00:00:00</td>\n    </tr>\n    <tr>\n      <th>2</th>\n      <td>47770eb9100c2d0c44946d9cf07ec65d</td>\n      <td>41ce2a54c0b03bf3443c3d931a367089</td>\n      <td>delivered</td>\n      <td>2018-08-08 08:38:49</td>\n      <td>2018-08-08 08:55:23</td>\n      <td>2018-08-08 13:50:00</td>\n      <td>2018-08-17 18:06:29</td>\n      <td>2018-09-04 00:00:00</td>\n    </tr>\n    <tr>\n      <th>3</th>\n      <td>949d5b44dbf5de918fe9c16f97b45f8a</td>\n      <td>f88197465ea7920adcdbec7375364d82</td>\n      <td>delivered</td>\n      <td>2017-11-18 19:28:06</td>\n      <td>2017-11-18 19:45:59</td>\n      <td>2017-11-22 13:39:59</td>\n      <td>2017-12-02 00:28:42</td>\n      <td>2017-12-15 00:00:00</td>\n    </tr>\n    <tr>\n      <th>4</th>\n      <td>ad21c59c0840e6cb83a9ceb5573f8159</td>\n      <td>8ab97904e6daea8866dbdbc4fb7aad2c</td>\n      <td>delivered</td>\n      <td>2018-02-13 21:18:39</td>\n      <td>2018-02-13 22:20:29</td>\n      <td>2018-02-14 19:46:34</td>\n      <td>2018-02-16 18:17:02</td>\n      <td>2018-02-26 00:00:00</td>\n    </tr>\n    <tr>\n      <th>...</th>\n      <td>...</td>\n      <td>...</td>\n      <td>...</td>\n      <td>...</td>\n      <td>...</td>\n      <td>...</td>\n      <td>...</td>\n      <td>...</td>\n    </tr>\n    <tr>\n      <th>99436</th>\n      <td>9c5dedf39a927c1b2549525ed64a053c</td>\n      <td>39bd1228ee8140590ac3aca26f2dfe00</td>\n      <td>delivered</td>\n      <td>2017-03-09 09:54:05</td>\n      <td>2017-03-09 09:54:05</td>\n      <td>2017-03-10 11:18:03</td>\n      <td>2017-03-17 15:08:01</td>\n      <td>2017-03-28 00:00:00</td>\n    </tr>\n    <tr>\n      <th>99437</th>\n      <td>63943bddc261676b46f01ca7ac2f7bd8</td>\n      <td>1fca14ff2861355f6e5f14306ff977a7</td>\n      <td>delivered</td>\n      <td>2018-02-06 12:58:58</td>\n      <td>2018-02-06 13:10:37</td>\n      <td>2018-02-07 23:22:42</td>\n      <td>2018-02-28 17:37:56</td>\n      <td>2018-03-02 00:00:00</td>\n    </tr>\n    <tr>\n      <th>99438</th>\n      <td>83c1379a015df1e13d02aae0204711ab</td>\n      <td>1aa71eb042121263aafbe80c1b562c9c</td>\n      <td>delivered</td>\n      <td>2017-08-27 14:46:43</td>\n      <td>2017-08-27 15:04:16</td>\n      <td>2017-08-28 20:52:26</td>\n      <td>2017-09-21 11:24:17</td>\n      <td>2017-09-27 00:00:00</td>\n    </tr>\n    <tr>\n      <th>99439</th>\n      <td>11c177c8e97725db2631073c19f07b62</td>\n      <td>b331b74b18dc79bcdf6532d51e1637c1</td>\n      <td>delivered</td>\n      <td>2018-01-08 21:28:27</td>\n      <td>2018-01-08 21:36:21</td>\n      <td>2018-01-12 15:35:03</td>\n      <td>2018-01-25 23:32:54</td>\n      <td>2018-02-15 00:00:00</td>\n    </tr>\n    <tr>\n      <th>99440</th>\n      <td>66dea50a8b16d9b4dee7af250b4be1a5</td>\n      <td>edb027a75a1449115f6b43211ae02a24</td>\n      <td>delivered</td>\n      <td>2018-03-08 20:57:30</td>\n      <td>2018-03-09 11:20:28</td>\n      <td>2018-03-09 22:11:59</td>\n      <td>2018-03-16 13:08:30</td>\n      <td>2018-04-03 00:00:00</td>\n    </tr>\n  </tbody>\n</table>\n<p>99441 rows × 8 columns</p>\n</div>"
     },
     "metadata": {},
     "output_type": "execute_result",
     "execution_count": 88
    }
   ],
   "source": [
    "df_olist_orders "
   ],
   "metadata": {
    "collapsed": false,
    "pycharm": {
     "name": "#%%\n",
     "is_executing": false
    }
   }
  },
  {
   "cell_type": "code",
   "execution_count": 89,
   "outputs": [
    {
     "data": {
      "text/plain": "                                order_id  order_item_id  \\\n0       00010242fe8c5a6d1ba2dd792cb16214              1   \n1       00018f77f2f0320c557190d7a144bdd3              1   \n2       000229ec398224ef6ca0657da4fc703e              1   \n3       00024acbcdf0a6daa1e931b038114c75              1   \n4       00042b26cf59d7ce69dfabb4e55b4fd9              1   \n...                                  ...            ...   \n112645  fffc94f6ce00a00581880bf54a75a037              1   \n112646  fffcd46ef2263f404302a634eb57f7eb              1   \n112647  fffce4705a9662cd70adb13d4a31832d              1   \n112648  fffe18544ffabc95dfada21779c9644f              1   \n112649  fffe41c64501cc87c801fd61db3f6244              1   \n\n                              product_id                         seller_id  \\\n0       4244733e06e7ecb4970a6e2683c13e61  48436dade18ac8b2bce089ec2a041202   \n1       e5f2d52b802189ee658865ca93d83a8f  dd7ddc04e1b6c2c614352b383efe2d36   \n2       c777355d18b72b67abbeef9df44fd0fd  5b51032eddd242adc84c38acab88f23d   \n3       7634da152a4610f1595efa32f14722fc  9d7a1d34a5052409006425275ba1c2b4   \n4       ac6c3623068f30de03045865e4e10089  df560393f3a51e74553ab94004ba5c87   \n...                                  ...                               ...   \n112645  4aa6014eceb682077f9dc4bffebc05b0  b8bc237ba3788b23da09c0f1f3a3288c   \n112646  32e07fd915822b0765e448c4dd74c828  f3c38ab652836d21de61fb8314b69182   \n112647  72a30483855e2eafc67aee5dc2560482  c3cfdc648177fdbbbb35635a37472c53   \n112648  9c422a519119dcad7575db5af1ba540e  2b3e4a2a3ea8e01938cabda2a3e5cc79   \n112649  350688d9dc1e75ff97be326363655e01  f7ccf836d21b2fb1de37564105216cc1   \n\n        shipping_limit_date   price  freight_value  \n0       2017-09-19 09:45:35   58.90          13.29  \n1       2017-05-03 11:05:13  239.90          19.93  \n2       2018-01-18 14:48:30  199.00          17.87  \n3       2018-08-15 10:10:18   12.99          12.79  \n4       2017-02-13 13:57:51  199.90          18.14  \n...                     ...     ...            ...  \n112645  2018-05-02 04:11:01  299.99          43.41  \n112646  2018-07-20 04:31:48  350.00          36.53  \n112647  2017-10-30 17:14:25   99.90          16.95  \n112648  2017-08-21 00:04:32   55.99           8.72  \n112649  2018-06-12 17:10:13   43.00          12.79  \n\n[112650 rows x 7 columns]",
      "text/html": "<div>\n<style scoped>\n    .dataframe tbody tr th:only-of-type {\n        vertical-align: middle;\n    }\n\n    .dataframe tbody tr th {\n        vertical-align: top;\n    }\n\n    .dataframe thead th {\n        text-align: right;\n    }\n</style>\n<table border=\"1\" class=\"dataframe\">\n  <thead>\n    <tr style=\"text-align: right;\">\n      <th></th>\n      <th>order_id</th>\n      <th>order_item_id</th>\n      <th>product_id</th>\n      <th>seller_id</th>\n      <th>shipping_limit_date</th>\n      <th>price</th>\n      <th>freight_value</th>\n    </tr>\n  </thead>\n  <tbody>\n    <tr>\n      <th>0</th>\n      <td>00010242fe8c5a6d1ba2dd792cb16214</td>\n      <td>1</td>\n      <td>4244733e06e7ecb4970a6e2683c13e61</td>\n      <td>48436dade18ac8b2bce089ec2a041202</td>\n      <td>2017-09-19 09:45:35</td>\n      <td>58.90</td>\n      <td>13.29</td>\n    </tr>\n    <tr>\n      <th>1</th>\n      <td>00018f77f2f0320c557190d7a144bdd3</td>\n      <td>1</td>\n      <td>e5f2d52b802189ee658865ca93d83a8f</td>\n      <td>dd7ddc04e1b6c2c614352b383efe2d36</td>\n      <td>2017-05-03 11:05:13</td>\n      <td>239.90</td>\n      <td>19.93</td>\n    </tr>\n    <tr>\n      <th>2</th>\n      <td>000229ec398224ef6ca0657da4fc703e</td>\n      <td>1</td>\n      <td>c777355d18b72b67abbeef9df44fd0fd</td>\n      <td>5b51032eddd242adc84c38acab88f23d</td>\n      <td>2018-01-18 14:48:30</td>\n      <td>199.00</td>\n      <td>17.87</td>\n    </tr>\n    <tr>\n      <th>3</th>\n      <td>00024acbcdf0a6daa1e931b038114c75</td>\n      <td>1</td>\n      <td>7634da152a4610f1595efa32f14722fc</td>\n      <td>9d7a1d34a5052409006425275ba1c2b4</td>\n      <td>2018-08-15 10:10:18</td>\n      <td>12.99</td>\n      <td>12.79</td>\n    </tr>\n    <tr>\n      <th>4</th>\n      <td>00042b26cf59d7ce69dfabb4e55b4fd9</td>\n      <td>1</td>\n      <td>ac6c3623068f30de03045865e4e10089</td>\n      <td>df560393f3a51e74553ab94004ba5c87</td>\n      <td>2017-02-13 13:57:51</td>\n      <td>199.90</td>\n      <td>18.14</td>\n    </tr>\n    <tr>\n      <th>...</th>\n      <td>...</td>\n      <td>...</td>\n      <td>...</td>\n      <td>...</td>\n      <td>...</td>\n      <td>...</td>\n      <td>...</td>\n    </tr>\n    <tr>\n      <th>112645</th>\n      <td>fffc94f6ce00a00581880bf54a75a037</td>\n      <td>1</td>\n      <td>4aa6014eceb682077f9dc4bffebc05b0</td>\n      <td>b8bc237ba3788b23da09c0f1f3a3288c</td>\n      <td>2018-05-02 04:11:01</td>\n      <td>299.99</td>\n      <td>43.41</td>\n    </tr>\n    <tr>\n      <th>112646</th>\n      <td>fffcd46ef2263f404302a634eb57f7eb</td>\n      <td>1</td>\n      <td>32e07fd915822b0765e448c4dd74c828</td>\n      <td>f3c38ab652836d21de61fb8314b69182</td>\n      <td>2018-07-20 04:31:48</td>\n      <td>350.00</td>\n      <td>36.53</td>\n    </tr>\n    <tr>\n      <th>112647</th>\n      <td>fffce4705a9662cd70adb13d4a31832d</td>\n      <td>1</td>\n      <td>72a30483855e2eafc67aee5dc2560482</td>\n      <td>c3cfdc648177fdbbbb35635a37472c53</td>\n      <td>2017-10-30 17:14:25</td>\n      <td>99.90</td>\n      <td>16.95</td>\n    </tr>\n    <tr>\n      <th>112648</th>\n      <td>fffe18544ffabc95dfada21779c9644f</td>\n      <td>1</td>\n      <td>9c422a519119dcad7575db5af1ba540e</td>\n      <td>2b3e4a2a3ea8e01938cabda2a3e5cc79</td>\n      <td>2017-08-21 00:04:32</td>\n      <td>55.99</td>\n      <td>8.72</td>\n    </tr>\n    <tr>\n      <th>112649</th>\n      <td>fffe41c64501cc87c801fd61db3f6244</td>\n      <td>1</td>\n      <td>350688d9dc1e75ff97be326363655e01</td>\n      <td>f7ccf836d21b2fb1de37564105216cc1</td>\n      <td>2018-06-12 17:10:13</td>\n      <td>43.00</td>\n      <td>12.79</td>\n    </tr>\n  </tbody>\n</table>\n<p>112650 rows × 7 columns</p>\n</div>"
     },
     "metadata": {},
     "output_type": "execute_result",
     "execution_count": 89
    }
   ],
   "source": [
    "df_olist_order_items"
   ],
   "metadata": {
    "collapsed": false,
    "pycharm": {
     "name": "#%%\n",
     "is_executing": false
    }
   }
  },
  {
   "cell_type": "code",
   "execution_count": 90,
   "outputs": [
    {
     "data": {
      "text/plain": "                                order_id                       customer_id  \\\n0       e481f51cbdc54678b7cc49136f2d6af7  9ef432eb6251297304e76186b10a928d   \n1       128e10d95713541c87cd1a2e48201934  a20e8105f23924cd00833fd87daa0831   \n2       0e7e841ddf8f8f2de2bad69267ecfbcf  26c7ac168e1433912a51b924fbd34d34   \n3       bfc39df4f36c3693ff3b63fcbea9e90a  53904ddbea91e1e92b2b3f1d09a7af86   \n4       53cdb2fc8bc7dce0b6741e2150273451  b0830fb4747a6c6d20dea0b8c802d7ef   \n...                                  ...                               ...   \n112645  e8fd20068b9f7e6ec07068bb7537f781  609b9fb8cad4fe0c7b376f77c8ab76ad   \n112646  e8fd20068b9f7e6ec07068bb7537f781  609b9fb8cad4fe0c7b376f77c8ab76ad   \n112647  cfa78b997e329a5295b4ee6972c02979  a2f7428f0cafbc8e59f20e1444b67315   \n112648  9c5dedf39a927c1b2549525ed64a053c  39bd1228ee8140590ac3aca26f2dfe00   \n112649  66dea50a8b16d9b4dee7af250b4be1a5  edb027a75a1449115f6b43211ae02a24   \n\n       order_status order_purchase_timestamp    order_approved_at  \\\n0         delivered      2017-10-02 10:56:33  2017-10-02 11:07:15   \n1         delivered      2017-08-15 18:29:31  2017-08-15 20:05:16   \n2         delivered      2017-08-02 18:24:47  2017-08-02 18:43:15   \n3         delivered      2017-10-23 23:26:46  2017-10-25 02:14:11   \n4         delivered      2018-07-24 20:41:37  2018-07-26 03:24:27   \n...             ...                      ...                  ...   \n112645    delivered      2017-08-10 21:21:07  2017-08-10 21:35:26   \n112646    delivered      2017-08-10 21:21:07  2017-08-10 21:35:26   \n112647    delivered      2017-12-20 09:52:41  2017-12-20 10:09:52   \n112648    delivered      2017-03-09 09:54:05  2017-03-09 09:54:05   \n112649    delivered      2018-03-08 20:57:30  2018-03-09 11:20:28   \n\n       order_delivered_carrier_date order_delivered_customer_date  \\\n0               2017-10-04 19:55:00           2017-10-10 21:25:13   \n1               2017-08-17 15:28:33           2017-08-18 14:44:43   \n2               2017-08-04 17:35:43           2017-08-07 18:30:01   \n3               2017-10-27 16:48:46           2017-11-07 18:04:59   \n4               2018-07-26 14:31:00           2018-08-07 15:27:45   \n...                             ...                           ...   \n112645          2017-08-18 16:42:51           2017-08-23 15:36:29   \n112646          2017-08-18 16:42:51           2017-08-23 15:36:29   \n112647          2017-12-20 20:25:25           2018-01-26 15:45:14   \n112648          2017-03-10 11:18:03           2017-03-17 15:08:01   \n112649          2018-03-09 22:11:59           2018-03-16 13:08:30   \n\n       order_estimated_delivery_date  order_item_id  \\\n0                2017-10-18 00:00:00              1   \n1                2017-08-28 00:00:00              1   \n2                2017-08-15 00:00:00              1   \n3                2017-11-13 00:00:00              1   \n4                2018-08-13 00:00:00              1   \n...                              ...            ...   \n112645           2017-08-31 00:00:00              1   \n112646           2017-08-31 00:00:00              2   \n112647           2018-01-18 00:00:00              1   \n112648           2017-03-28 00:00:00              1   \n112649           2018-04-03 00:00:00              1   \n\n                              product_id  ...   price freight_value  \\\n0       87285b34884572647811a353c7ac498a  ...   29.99          8.72   \n1       87285b34884572647811a353c7ac498a  ...   29.99          7.78   \n2       87285b34884572647811a353c7ac498a  ...   29.99          7.78   \n3       87285b34884572647811a353c7ac498a  ...   29.99         14.10   \n4       595fac2a385ac33a80bd5114aec74eb8  ...  118.70         22.76   \n...                                  ...  ...     ...           ...   \n112645  0df37da38a30a713453b03053d60d3f7  ...  356.00         18.12   \n112646  0df37da38a30a713453b03053d60d3f7  ...  356.00         18.12   \n112647  3d2c44374ee42b3003a470f3e937a2ea  ...   55.90         15.14   \n112648  ac35486adb7b02598c182c2ff2e05254  ...   72.00         13.08   \n112649  006619bbed68b000c8ba3f8725d5409e  ...   68.50         18.36   \n\n        product_category_name  product_name_lenght product_description_lenght  \\\n0       utilidades_domesticas                 40.0                      268.0   \n1       utilidades_domesticas                 40.0                      268.0   \n2       utilidades_domesticas                 40.0                      268.0   \n3       utilidades_domesticas                 40.0                      268.0   \n4                  perfumaria                 29.0                      178.0   \n...                       ...                  ...                        ...   \n112645          esporte_lazer                 53.0                     1105.0   \n112646          esporte_lazer                 53.0                     1105.0   \n112647  instrumentos_musicais                 34.0                      372.0   \n112648           beleza_saude                 50.0                     1517.0   \n112649           beleza_saude                 45.0                      569.0   \n\n        product_photos_qty  product_weight_g  product_length_cm  \\\n0                      4.0             500.0               19.0   \n1                      4.0             500.0               19.0   \n2                      4.0             500.0               19.0   \n3                      4.0             500.0               19.0   \n4                      1.0             400.0               19.0   \n...                    ...               ...                ...   \n112645                 1.0            2800.0               28.0   \n112646                 1.0            2800.0               28.0   \n112647                 2.0             300.0               16.0   \n112648                 1.0            1175.0               22.0   \n112649                 1.0             150.0               16.0   \n\n        product_height_cm  product_width_cm  \n0                     8.0              13.0  \n1                     8.0              13.0  \n2                     8.0              13.0  \n3                     8.0              13.0  \n4                    13.0              19.0  \n...                   ...               ...  \n112645               23.0              23.0  \n112646               23.0              23.0  \n112647                6.0              12.0  \n112648               13.0              18.0  \n112649                7.0              15.0  \n\n[112650 rows x 22 columns]",
      "text/html": "<div>\n<style scoped>\n    .dataframe tbody tr th:only-of-type {\n        vertical-align: middle;\n    }\n\n    .dataframe tbody tr th {\n        vertical-align: top;\n    }\n\n    .dataframe thead th {\n        text-align: right;\n    }\n</style>\n<table border=\"1\" class=\"dataframe\">\n  <thead>\n    <tr style=\"text-align: right;\">\n      <th></th>\n      <th>order_id</th>\n      <th>customer_id</th>\n      <th>order_status</th>\n      <th>order_purchase_timestamp</th>\n      <th>order_approved_at</th>\n      <th>order_delivered_carrier_date</th>\n      <th>order_delivered_customer_date</th>\n      <th>order_estimated_delivery_date</th>\n      <th>order_item_id</th>\n      <th>product_id</th>\n      <th>...</th>\n      <th>price</th>\n      <th>freight_value</th>\n      <th>product_category_name</th>\n      <th>product_name_lenght</th>\n      <th>product_description_lenght</th>\n      <th>product_photos_qty</th>\n      <th>product_weight_g</th>\n      <th>product_length_cm</th>\n      <th>product_height_cm</th>\n      <th>product_width_cm</th>\n    </tr>\n  </thead>\n  <tbody>\n    <tr>\n      <th>0</th>\n      <td>e481f51cbdc54678b7cc49136f2d6af7</td>\n      <td>9ef432eb6251297304e76186b10a928d</td>\n      <td>delivered</td>\n      <td>2017-10-02 10:56:33</td>\n      <td>2017-10-02 11:07:15</td>\n      <td>2017-10-04 19:55:00</td>\n      <td>2017-10-10 21:25:13</td>\n      <td>2017-10-18 00:00:00</td>\n      <td>1</td>\n      <td>87285b34884572647811a353c7ac498a</td>\n      <td>...</td>\n      <td>29.99</td>\n      <td>8.72</td>\n      <td>utilidades_domesticas</td>\n      <td>40.0</td>\n      <td>268.0</td>\n      <td>4.0</td>\n      <td>500.0</td>\n      <td>19.0</td>\n      <td>8.0</td>\n      <td>13.0</td>\n    </tr>\n    <tr>\n      <th>1</th>\n      <td>128e10d95713541c87cd1a2e48201934</td>\n      <td>a20e8105f23924cd00833fd87daa0831</td>\n      <td>delivered</td>\n      <td>2017-08-15 18:29:31</td>\n      <td>2017-08-15 20:05:16</td>\n      <td>2017-08-17 15:28:33</td>\n      <td>2017-08-18 14:44:43</td>\n      <td>2017-08-28 00:00:00</td>\n      <td>1</td>\n      <td>87285b34884572647811a353c7ac498a</td>\n      <td>...</td>\n      <td>29.99</td>\n      <td>7.78</td>\n      <td>utilidades_domesticas</td>\n      <td>40.0</td>\n      <td>268.0</td>\n      <td>4.0</td>\n      <td>500.0</td>\n      <td>19.0</td>\n      <td>8.0</td>\n      <td>13.0</td>\n    </tr>\n    <tr>\n      <th>2</th>\n      <td>0e7e841ddf8f8f2de2bad69267ecfbcf</td>\n      <td>26c7ac168e1433912a51b924fbd34d34</td>\n      <td>delivered</td>\n      <td>2017-08-02 18:24:47</td>\n      <td>2017-08-02 18:43:15</td>\n      <td>2017-08-04 17:35:43</td>\n      <td>2017-08-07 18:30:01</td>\n      <td>2017-08-15 00:00:00</td>\n      <td>1</td>\n      <td>87285b34884572647811a353c7ac498a</td>\n      <td>...</td>\n      <td>29.99</td>\n      <td>7.78</td>\n      <td>utilidades_domesticas</td>\n      <td>40.0</td>\n      <td>268.0</td>\n      <td>4.0</td>\n      <td>500.0</td>\n      <td>19.0</td>\n      <td>8.0</td>\n      <td>13.0</td>\n    </tr>\n    <tr>\n      <th>3</th>\n      <td>bfc39df4f36c3693ff3b63fcbea9e90a</td>\n      <td>53904ddbea91e1e92b2b3f1d09a7af86</td>\n      <td>delivered</td>\n      <td>2017-10-23 23:26:46</td>\n      <td>2017-10-25 02:14:11</td>\n      <td>2017-10-27 16:48:46</td>\n      <td>2017-11-07 18:04:59</td>\n      <td>2017-11-13 00:00:00</td>\n      <td>1</td>\n      <td>87285b34884572647811a353c7ac498a</td>\n      <td>...</td>\n      <td>29.99</td>\n      <td>14.10</td>\n      <td>utilidades_domesticas</td>\n      <td>40.0</td>\n      <td>268.0</td>\n      <td>4.0</td>\n      <td>500.0</td>\n      <td>19.0</td>\n      <td>8.0</td>\n      <td>13.0</td>\n    </tr>\n    <tr>\n      <th>4</th>\n      <td>53cdb2fc8bc7dce0b6741e2150273451</td>\n      <td>b0830fb4747a6c6d20dea0b8c802d7ef</td>\n      <td>delivered</td>\n      <td>2018-07-24 20:41:37</td>\n      <td>2018-07-26 03:24:27</td>\n      <td>2018-07-26 14:31:00</td>\n      <td>2018-08-07 15:27:45</td>\n      <td>2018-08-13 00:00:00</td>\n      <td>1</td>\n      <td>595fac2a385ac33a80bd5114aec74eb8</td>\n      <td>...</td>\n      <td>118.70</td>\n      <td>22.76</td>\n      <td>perfumaria</td>\n      <td>29.0</td>\n      <td>178.0</td>\n      <td>1.0</td>\n      <td>400.0</td>\n      <td>19.0</td>\n      <td>13.0</td>\n      <td>19.0</td>\n    </tr>\n    <tr>\n      <th>...</th>\n      <td>...</td>\n      <td>...</td>\n      <td>...</td>\n      <td>...</td>\n      <td>...</td>\n      <td>...</td>\n      <td>...</td>\n      <td>...</td>\n      <td>...</td>\n      <td>...</td>\n      <td>...</td>\n      <td>...</td>\n      <td>...</td>\n      <td>...</td>\n      <td>...</td>\n      <td>...</td>\n      <td>...</td>\n      <td>...</td>\n      <td>...</td>\n      <td>...</td>\n      <td>...</td>\n    </tr>\n    <tr>\n      <th>112645</th>\n      <td>e8fd20068b9f7e6ec07068bb7537f781</td>\n      <td>609b9fb8cad4fe0c7b376f77c8ab76ad</td>\n      <td>delivered</td>\n      <td>2017-08-10 21:21:07</td>\n      <td>2017-08-10 21:35:26</td>\n      <td>2017-08-18 16:42:51</td>\n      <td>2017-08-23 15:36:29</td>\n      <td>2017-08-31 00:00:00</td>\n      <td>1</td>\n      <td>0df37da38a30a713453b03053d60d3f7</td>\n      <td>...</td>\n      <td>356.00</td>\n      <td>18.12</td>\n      <td>esporte_lazer</td>\n      <td>53.0</td>\n      <td>1105.0</td>\n      <td>1.0</td>\n      <td>2800.0</td>\n      <td>28.0</td>\n      <td>23.0</td>\n      <td>23.0</td>\n    </tr>\n    <tr>\n      <th>112646</th>\n      <td>e8fd20068b9f7e6ec07068bb7537f781</td>\n      <td>609b9fb8cad4fe0c7b376f77c8ab76ad</td>\n      <td>delivered</td>\n      <td>2017-08-10 21:21:07</td>\n      <td>2017-08-10 21:35:26</td>\n      <td>2017-08-18 16:42:51</td>\n      <td>2017-08-23 15:36:29</td>\n      <td>2017-08-31 00:00:00</td>\n      <td>2</td>\n      <td>0df37da38a30a713453b03053d60d3f7</td>\n      <td>...</td>\n      <td>356.00</td>\n      <td>18.12</td>\n      <td>esporte_lazer</td>\n      <td>53.0</td>\n      <td>1105.0</td>\n      <td>1.0</td>\n      <td>2800.0</td>\n      <td>28.0</td>\n      <td>23.0</td>\n      <td>23.0</td>\n    </tr>\n    <tr>\n      <th>112647</th>\n      <td>cfa78b997e329a5295b4ee6972c02979</td>\n      <td>a2f7428f0cafbc8e59f20e1444b67315</td>\n      <td>delivered</td>\n      <td>2017-12-20 09:52:41</td>\n      <td>2017-12-20 10:09:52</td>\n      <td>2017-12-20 20:25:25</td>\n      <td>2018-01-26 15:45:14</td>\n      <td>2018-01-18 00:00:00</td>\n      <td>1</td>\n      <td>3d2c44374ee42b3003a470f3e937a2ea</td>\n      <td>...</td>\n      <td>55.90</td>\n      <td>15.14</td>\n      <td>instrumentos_musicais</td>\n      <td>34.0</td>\n      <td>372.0</td>\n      <td>2.0</td>\n      <td>300.0</td>\n      <td>16.0</td>\n      <td>6.0</td>\n      <td>12.0</td>\n    </tr>\n    <tr>\n      <th>112648</th>\n      <td>9c5dedf39a927c1b2549525ed64a053c</td>\n      <td>39bd1228ee8140590ac3aca26f2dfe00</td>\n      <td>delivered</td>\n      <td>2017-03-09 09:54:05</td>\n      <td>2017-03-09 09:54:05</td>\n      <td>2017-03-10 11:18:03</td>\n      <td>2017-03-17 15:08:01</td>\n      <td>2017-03-28 00:00:00</td>\n      <td>1</td>\n      <td>ac35486adb7b02598c182c2ff2e05254</td>\n      <td>...</td>\n      <td>72.00</td>\n      <td>13.08</td>\n      <td>beleza_saude</td>\n      <td>50.0</td>\n      <td>1517.0</td>\n      <td>1.0</td>\n      <td>1175.0</td>\n      <td>22.0</td>\n      <td>13.0</td>\n      <td>18.0</td>\n    </tr>\n    <tr>\n      <th>112649</th>\n      <td>66dea50a8b16d9b4dee7af250b4be1a5</td>\n      <td>edb027a75a1449115f6b43211ae02a24</td>\n      <td>delivered</td>\n      <td>2018-03-08 20:57:30</td>\n      <td>2018-03-09 11:20:28</td>\n      <td>2018-03-09 22:11:59</td>\n      <td>2018-03-16 13:08:30</td>\n      <td>2018-04-03 00:00:00</td>\n      <td>1</td>\n      <td>006619bbed68b000c8ba3f8725d5409e</td>\n      <td>...</td>\n      <td>68.50</td>\n      <td>18.36</td>\n      <td>beleza_saude</td>\n      <td>45.0</td>\n      <td>569.0</td>\n      <td>1.0</td>\n      <td>150.0</td>\n      <td>16.0</td>\n      <td>7.0</td>\n      <td>15.0</td>\n    </tr>\n  </tbody>\n</table>\n<p>112650 rows × 22 columns</p>\n</div>"
     },
     "metadata": {},
     "output_type": "execute_result",
     "execution_count": 90
    }
   ],
   "source": [
    "OrdersAndItems = df_olist_orders.merge(df_olist_order_items)\n",
    "OrdersAndItemsAndProducts = OrdersAndItems.merge(df_olist_products)\n",
    "OrdersAndItemsAndProducts"
   ],
   "metadata": {
    "collapsed": false,
    "pycharm": {
     "name": "#%%\n",
     "is_executing": false
    }
   }
  },
  {
   "cell_type": "code",
   "execution_count": 96,
   "outputs": [
    {
     "traceback": [
      "\u001b[1;31m---------------------------------------------------------------------------\u001b[0m",
      "\u001b[1;31mAttributeError\u001b[0m                            Traceback (most recent call last)",
      "\u001b[1;32m<ipython-input-96-c0ea2eeaf711>\u001b[0m in \u001b[0;36m<module>\u001b[1;34m\u001b[0m\n\u001b[0;32m      3\u001b[0m \u001b[0mOrderProductList\u001b[0m\u001b[1;33m.\u001b[0m\u001b[0morder_purchase_timestamp\u001b[0m \u001b[1;33m=\u001b[0m \u001b[0mpd\u001b[0m\u001b[1;33m.\u001b[0m\u001b[0mto_datetime\u001b[0m\u001b[1;33m(\u001b[0m\u001b[0mOrderProductList\u001b[0m\u001b[1;33m.\u001b[0m\u001b[0morder_purchase_timestamp\u001b[0m\u001b[1;33m)\u001b[0m\u001b[1;33m\u001b[0m\u001b[1;33m\u001b[0m\u001b[0m\n\u001b[0;32m      4\u001b[0m \u001b[0mOrderProductList\u001b[0m\u001b[1;33m[\u001b[0m\u001b[1;34m'order_purchase_date'\u001b[0m\u001b[1;33m]\u001b[0m \u001b[1;33m=\u001b[0m \u001b[0mOrderProductList\u001b[0m\u001b[1;33m.\u001b[0m\u001b[0morder_purchase_timestamp\u001b[0m\u001b[1;33m.\u001b[0m\u001b[0mdt\u001b[0m\u001b[1;33m.\u001b[0m\u001b[0mdate\u001b[0m\u001b[1;33m\u001b[0m\u001b[1;33m\u001b[0m\u001b[0m\n\u001b[1;32m----> 5\u001b[1;33m \u001b[0msales_per_purchase_date\u001b[0m \u001b[1;33m=\u001b[0m \u001b[0mOrderProductList\u001b[0m\u001b[1;33m.\u001b[0m\u001b[0mgroupby\u001b[0m\u001b[1;33m(\u001b[0m\u001b[1;34m'order_purchase_date'\u001b[0m\u001b[1;33m,\u001b[0m \u001b[0mas_index\u001b[0m\u001b[1;33m=\u001b[0m\u001b[1;32mFalse\u001b[0m\u001b[1;33m)\u001b[0m\u001b[1;33m.\u001b[0m\u001b[0mprice_freight_value\u001b[0m\u001b[1;33m.\u001b[0m\u001b[0msum\u001b[0m\u001b[1;33m(\u001b[0m\u001b[1;33m)\u001b[0m\u001b[1;33m\u001b[0m\u001b[1;33m\u001b[0m\u001b[0m\n\u001b[0m\u001b[0;32m      6\u001b[0m \u001b[0max\u001b[0m \u001b[1;33m=\u001b[0m \u001b[0msns\u001b[0m\u001b[1;33m.\u001b[0m\u001b[0mlineplot\u001b[0m\u001b[1;33m(\u001b[0m\u001b[0mx\u001b[0m\u001b[1;33m=\u001b[0m\u001b[1;34m\"order_purchase_date\"\u001b[0m\u001b[1;33m,\u001b[0m \u001b[0my\u001b[0m\u001b[1;33m=\u001b[0m\u001b[1;34m\"price\"\u001b[0m\u001b[1;33m,\u001b[0m \u001b[0mdata\u001b[0m\u001b[1;33m=\u001b[0m\u001b[0msales_per_purchase_date\u001b[0m\u001b[1;33m)\u001b[0m\u001b[1;33m\u001b[0m\u001b[1;33m\u001b[0m\u001b[0m\n\u001b[0;32m      7\u001b[0m \u001b[0max\u001b[0m\u001b[1;33m.\u001b[0m\u001b[0mset_title\u001b[0m\u001b[1;33m(\u001b[0m\u001b[1;34m'Sales per day'\u001b[0m\u001b[1;33m)\u001b[0m\u001b[1;33m\u001b[0m\u001b[1;33m\u001b[0m\u001b[0m\n",
      "\u001b[1;32m~\\.conda\\envs\\Majeure_ml_local\\lib\\site-packages\\pandas\\core\\groupby\\groupby.py\u001b[0m in \u001b[0;36m__getattr__\u001b[1;34m(self, attr)\u001b[0m\n\u001b[0;32m    702\u001b[0m \u001b[1;33m\u001b[0m\u001b[0m\n\u001b[0;32m    703\u001b[0m         raise AttributeError(\n\u001b[1;32m--> 704\u001b[1;33m             \u001b[1;34mf\"'{type(self).__name__}' object has no attribute '{attr}'\"\u001b[0m\u001b[1;33m\u001b[0m\u001b[1;33m\u001b[0m\u001b[0m\n\u001b[0m\u001b[0;32m    705\u001b[0m         )\n\u001b[0;32m    706\u001b[0m \u001b[1;33m\u001b[0m\u001b[0m\n",
      "\u001b[1;31mAttributeError\u001b[0m: 'DataFrameGroupBy' object has no attribute 'price_freight_value'"
     ],
     "ename": "AttributeError",
     "evalue": "'DataFrameGroupBy' object has no attribute 'price_freight_value'",
     "output_type": "error"
    }
   ],
   "source": [
    "product = '87285b34884572647811a353c7ac498a'\n",
    "OrderProductList = OrdersAndItemsAndProducts.where(OrdersAndItemsAndProducts['product_id'] == product).dropna()\n",
    "\n",
    "sales_per_purchase_date = OrderProductList.groupby('order_purchase_date', as_index=False).price_freight_value.sum()\n",
    "ax = sns.lineplot(x=\"order_purchase_date\", y=\"price_freight_value\", data=sales_per_purchase_date)\n",
    "ax.set_title('Sales per day')\n",
    "\n",
    "\n",
    "\n"
   ],
   "metadata": {
    "collapsed": false,
    "pycharm": {
     "name": "#%%\n",
     "is_executing": false
    }
   }
  }
 ],
 "metadata": {
  "kernelspec": {
   "display_name": "Python 3",
   "language": "python",
   "name": "python3"
  },
  "language_info": {
   "codemirror_mode": {
    "name": "ipython",
    "version": 2
   },
   "file_extension": ".py",
   "mimetype": "text/x-python",
   "name": "python",
   "nbconvert_exporter": "python",
   "pygments_lexer": "ipython2",
   "version": "2.7.6"
  },
  "pycharm": {
   "stem_cell": {
    "cell_type": "raw",
    "source": [],
    "metadata": {
     "collapsed": false
    }
   }
  }
 },
 "nbformat": 4,
 "nbformat_minor": 0
}