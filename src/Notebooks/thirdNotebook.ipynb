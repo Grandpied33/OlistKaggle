{
 "cells": [
  {
   "cell_type": "code",
   "execution_count": 1,
   "outputs": [],
   "source": [
    "#Imports\n",
    "import pandas as pd\n",
    "import matplotlib.pyplot as plt\n",
    "import os"
   ],
   "metadata": {
    "collapsed": false,
    "pycharm": {
     "name": "#%%\n",
     "is_executing": false
    }
   }
  },
  {
   "cell_type": "code",
   "execution_count": 2,
   "outputs": [],
   "source": [
    "#Charges données\n",
    "df_olist_customers = pd.read_csv('../../data/olist_customers_dataset.csv')\n",
    "df_olist_geolocation = pd.read_csv('../../data/olist_geolocation_dataset.csv')\n",
    "df_olist_order_items = pd.read_csv('../../data/olist_order_items_dataset.csv')\n",
    "df_olist_order_payments = pd.read_csv('../../data/olist_order_payments_dataset.csv')\n",
    "df_olist_order_review = pd.read_csv('../../data/olist_order_reviews_dataset.csv')\n",
    "df_olist_orders = pd.read_csv('../../data/olist_orders_dataset.csv')\n",
    "df_olist_products = pd.read_csv('../../data/olist_products_dataset.csv')\n",
    "df_olist_sellers = pd.read_csv('../../data/olist_sellers_dataset.csv')\n",
    "df_prodct_category = pd.read_csv('../../data/product_category_name_translation.csv')"
   ],
   "metadata": {
    "collapsed": false,
    "pycharm": {
     "name": "#%%\n",
     "is_executing": false
    }
   }
  },
  {
   "cell_type": "code",
   "execution_count": 3,
   "outputs": [],
   "source": [
    "def get_dummies(df, col_name, list_values):\n",
    "    for value in list_values:\n",
    "        new_col_name = col_name + \"Is_\"+ value\n",
    "        df[new_col_name] =(df[col_name] == value).astype(int)\n",
    "    del df[col_name]\n",
    "    return df"
   ],
   "metadata": {
    "collapsed": false,
    "pycharm": {
     "name": "#%%\n",
     "is_executing": false
    }
   }
  },
  {
   "cell_type": "code",
   "execution_count": 4,
   "outputs": [
    {
     "output_type": "execute_result",
     "data": {
      "text/plain": [
       "                            customer_id                customer_unique_id  \\\n",
       "0      06b8999e2fba1a1fbc88172c00ba8bc7  861eff4711a542e4b93843c6dd7febb0   \n",
       "1      18955e83d337fd6b2def6b18a428ac77  290c77bc529b7ac935b93aa66c333dc3   \n",
       "2      4e7b3e00288586ebd08712fdd0374a03  060e732b5b29e8181a18229c7b0b2b5e   \n",
       "3      b2b6027bc5c5109e529d4dc6358b12c3  259dac757896d24d7702b9acbbff3f3c   \n",
       "4      4f2d8ab171c80ec8364f7c12e35b23ad  345ecd01c38d18a9036ed96c73b8d066   \n",
       "...                                 ...                               ...   \n",
       "99436  17ddf5dd5d51696bb3d7c6291687be6f  1a29b476fee25c95fbafc67c5ac95cf8   \n",
       "99437  e7b71a9017aa05c9a7fd292d714858e8  d52a67c98be1cf6a5c84435bd38d095d   \n",
       "99438  5e28dfe12db7fb50a4b2f691faecea5e  e9f50caf99f032f0bf3c55141f019d99   \n",
       "99439  56b18e2166679b8a959d72dd06da27f9  73c2643a0a458b49f58cea58833b192e   \n",
       "99440  274fa6071e5e17fe303b9748641082c8  84732c5050c01db9b23e19ba39899398   \n",
       "\n",
       "       customer_zip_code_prefix          customer_city customer_state  \n",
       "0                         14409                 franca             SP  \n",
       "1                          9790  sao bernardo do campo             SP  \n",
       "2                          1151              sao paulo             SP  \n",
       "3                          8775        mogi das cruzes             SP  \n",
       "4                         13056               campinas             SP  \n",
       "...                         ...                    ...            ...  \n",
       "99436                      3937              sao paulo             SP  \n",
       "99437                      6764        taboao da serra             SP  \n",
       "99438                     60115              fortaleza             CE  \n",
       "99439                     92120                 canoas             RS  \n",
       "99440                      6703                  cotia             SP  \n",
       "\n",
       "[99441 rows x 5 columns]"
      ],
      "text/html": "<div>\n<style scoped>\n    .dataframe tbody tr th:only-of-type {\n        vertical-align: middle;\n    }\n\n    .dataframe tbody tr th {\n        vertical-align: top;\n    }\n\n    .dataframe thead th {\n        text-align: right;\n    }\n</style>\n<table border=\"1\" class=\"dataframe\">\n  <thead>\n    <tr style=\"text-align: right;\">\n      <th></th>\n      <th>customer_id</th>\n      <th>customer_unique_id</th>\n      <th>customer_zip_code_prefix</th>\n      <th>customer_city</th>\n      <th>customer_state</th>\n    </tr>\n  </thead>\n  <tbody>\n    <tr>\n      <th>0</th>\n      <td>06b8999e2fba1a1fbc88172c00ba8bc7</td>\n      <td>861eff4711a542e4b93843c6dd7febb0</td>\n      <td>14409</td>\n      <td>franca</td>\n      <td>SP</td>\n    </tr>\n    <tr>\n      <th>1</th>\n      <td>18955e83d337fd6b2def6b18a428ac77</td>\n      <td>290c77bc529b7ac935b93aa66c333dc3</td>\n      <td>9790</td>\n      <td>sao bernardo do campo</td>\n      <td>SP</td>\n    </tr>\n    <tr>\n      <th>2</th>\n      <td>4e7b3e00288586ebd08712fdd0374a03</td>\n      <td>060e732b5b29e8181a18229c7b0b2b5e</td>\n      <td>1151</td>\n      <td>sao paulo</td>\n      <td>SP</td>\n    </tr>\n    <tr>\n      <th>3</th>\n      <td>b2b6027bc5c5109e529d4dc6358b12c3</td>\n      <td>259dac757896d24d7702b9acbbff3f3c</td>\n      <td>8775</td>\n      <td>mogi das cruzes</td>\n      <td>SP</td>\n    </tr>\n    <tr>\n      <th>4</th>\n      <td>4f2d8ab171c80ec8364f7c12e35b23ad</td>\n      <td>345ecd01c38d18a9036ed96c73b8d066</td>\n      <td>13056</td>\n      <td>campinas</td>\n      <td>SP</td>\n    </tr>\n    <tr>\n      <th>...</th>\n      <td>...</td>\n      <td>...</td>\n      <td>...</td>\n      <td>...</td>\n      <td>...</td>\n    </tr>\n    <tr>\n      <th>99436</th>\n      <td>17ddf5dd5d51696bb3d7c6291687be6f</td>\n      <td>1a29b476fee25c95fbafc67c5ac95cf8</td>\n      <td>3937</td>\n      <td>sao paulo</td>\n      <td>SP</td>\n    </tr>\n    <tr>\n      <th>99437</th>\n      <td>e7b71a9017aa05c9a7fd292d714858e8</td>\n      <td>d52a67c98be1cf6a5c84435bd38d095d</td>\n      <td>6764</td>\n      <td>taboao da serra</td>\n      <td>SP</td>\n    </tr>\n    <tr>\n      <th>99438</th>\n      <td>5e28dfe12db7fb50a4b2f691faecea5e</td>\n      <td>e9f50caf99f032f0bf3c55141f019d99</td>\n      <td>60115</td>\n      <td>fortaleza</td>\n      <td>CE</td>\n    </tr>\n    <tr>\n      <th>99439</th>\n      <td>56b18e2166679b8a959d72dd06da27f9</td>\n      <td>73c2643a0a458b49f58cea58833b192e</td>\n      <td>92120</td>\n      <td>canoas</td>\n      <td>RS</td>\n    </tr>\n    <tr>\n      <th>99440</th>\n      <td>274fa6071e5e17fe303b9748641082c8</td>\n      <td>84732c5050c01db9b23e19ba39899398</td>\n      <td>6703</td>\n      <td>cotia</td>\n      <td>SP</td>\n    </tr>\n  </tbody>\n</table>\n<p>99441 rows × 5 columns</p>\n</div>"
     },
     "metadata": {},
     "execution_count": 4
    }
   ],
   "source": [
    "df_olist_customers"
   ],
   "metadata": {
    "collapsed": false,
    "pycharm": {
     "name": "#%%\n",
     "is_executing": false
    }
   }
  },
  {
   "cell_type": "code",
   "execution_count": 5,
   "outputs": [
    {
     "output_type": "execute_result",
     "data": {
      "text/plain": [
       "                               order_id                       customer_id  \\\n",
       "0      e481f51cbdc54678b7cc49136f2d6af7  9ef432eb6251297304e76186b10a928d   \n",
       "1      53cdb2fc8bc7dce0b6741e2150273451  b0830fb4747a6c6d20dea0b8c802d7ef   \n",
       "2      47770eb9100c2d0c44946d9cf07ec65d  41ce2a54c0b03bf3443c3d931a367089   \n",
       "3      949d5b44dbf5de918fe9c16f97b45f8a  f88197465ea7920adcdbec7375364d82   \n",
       "4      ad21c59c0840e6cb83a9ceb5573f8159  8ab97904e6daea8866dbdbc4fb7aad2c   \n",
       "...                                 ...                               ...   \n",
       "99436  9c5dedf39a927c1b2549525ed64a053c  39bd1228ee8140590ac3aca26f2dfe00   \n",
       "99437  63943bddc261676b46f01ca7ac2f7bd8  1fca14ff2861355f6e5f14306ff977a7   \n",
       "99438  83c1379a015df1e13d02aae0204711ab  1aa71eb042121263aafbe80c1b562c9c   \n",
       "99439  11c177c8e97725db2631073c19f07b62  b331b74b18dc79bcdf6532d51e1637c1   \n",
       "99440  66dea50a8b16d9b4dee7af250b4be1a5  edb027a75a1449115f6b43211ae02a24   \n",
       "\n",
       "      order_status order_purchase_timestamp    order_approved_at  \\\n",
       "0        delivered      2017-10-02 10:56:33  2017-10-02 11:07:15   \n",
       "1        delivered      2018-07-24 20:41:37  2018-07-26 03:24:27   \n",
       "2        delivered      2018-08-08 08:38:49  2018-08-08 08:55:23   \n",
       "3        delivered      2017-11-18 19:28:06  2017-11-18 19:45:59   \n",
       "4        delivered      2018-02-13 21:18:39  2018-02-13 22:20:29   \n",
       "...            ...                      ...                  ...   \n",
       "99436    delivered      2017-03-09 09:54:05  2017-03-09 09:54:05   \n",
       "99437    delivered      2018-02-06 12:58:58  2018-02-06 13:10:37   \n",
       "99438    delivered      2017-08-27 14:46:43  2017-08-27 15:04:16   \n",
       "99439    delivered      2018-01-08 21:28:27  2018-01-08 21:36:21   \n",
       "99440    delivered      2018-03-08 20:57:30  2018-03-09 11:20:28   \n",
       "\n",
       "      order_delivered_carrier_date order_delivered_customer_date  \\\n",
       "0              2017-10-04 19:55:00           2017-10-10 21:25:13   \n",
       "1              2018-07-26 14:31:00           2018-08-07 15:27:45   \n",
       "2              2018-08-08 13:50:00           2018-08-17 18:06:29   \n",
       "3              2017-11-22 13:39:59           2017-12-02 00:28:42   \n",
       "4              2018-02-14 19:46:34           2018-02-16 18:17:02   \n",
       "...                            ...                           ...   \n",
       "99436          2017-03-10 11:18:03           2017-03-17 15:08:01   \n",
       "99437          2018-02-07 23:22:42           2018-02-28 17:37:56   \n",
       "99438          2017-08-28 20:52:26           2017-09-21 11:24:17   \n",
       "99439          2018-01-12 15:35:03           2018-01-25 23:32:54   \n",
       "99440          2018-03-09 22:11:59           2018-03-16 13:08:30   \n",
       "\n",
       "      order_estimated_delivery_date  \n",
       "0               2017-10-18 00:00:00  \n",
       "1               2018-08-13 00:00:00  \n",
       "2               2018-09-04 00:00:00  \n",
       "3               2017-12-15 00:00:00  \n",
       "4               2018-02-26 00:00:00  \n",
       "...                             ...  \n",
       "99436           2017-03-28 00:00:00  \n",
       "99437           2018-03-02 00:00:00  \n",
       "99438           2017-09-27 00:00:00  \n",
       "99439           2018-02-15 00:00:00  \n",
       "99440           2018-04-03 00:00:00  \n",
       "\n",
       "[99441 rows x 8 columns]"
      ],
      "text/html": "<div>\n<style scoped>\n    .dataframe tbody tr th:only-of-type {\n        vertical-align: middle;\n    }\n\n    .dataframe tbody tr th {\n        vertical-align: top;\n    }\n\n    .dataframe thead th {\n        text-align: right;\n    }\n</style>\n<table border=\"1\" class=\"dataframe\">\n  <thead>\n    <tr style=\"text-align: right;\">\n      <th></th>\n      <th>order_id</th>\n      <th>customer_id</th>\n      <th>order_status</th>\n      <th>order_purchase_timestamp</th>\n      <th>order_approved_at</th>\n      <th>order_delivered_carrier_date</th>\n      <th>order_delivered_customer_date</th>\n      <th>order_estimated_delivery_date</th>\n    </tr>\n  </thead>\n  <tbody>\n    <tr>\n      <th>0</th>\n      <td>e481f51cbdc54678b7cc49136f2d6af7</td>\n      <td>9ef432eb6251297304e76186b10a928d</td>\n      <td>delivered</td>\n      <td>2017-10-02 10:56:33</td>\n      <td>2017-10-02 11:07:15</td>\n      <td>2017-10-04 19:55:00</td>\n      <td>2017-10-10 21:25:13</td>\n      <td>2017-10-18 00:00:00</td>\n    </tr>\n    <tr>\n      <th>1</th>\n      <td>53cdb2fc8bc7dce0b6741e2150273451</td>\n      <td>b0830fb4747a6c6d20dea0b8c802d7ef</td>\n      <td>delivered</td>\n      <td>2018-07-24 20:41:37</td>\n      <td>2018-07-26 03:24:27</td>\n      <td>2018-07-26 14:31:00</td>\n      <td>2018-08-07 15:27:45</td>\n      <td>2018-08-13 00:00:00</td>\n    </tr>\n    <tr>\n      <th>2</th>\n      <td>47770eb9100c2d0c44946d9cf07ec65d</td>\n      <td>41ce2a54c0b03bf3443c3d931a367089</td>\n      <td>delivered</td>\n      <td>2018-08-08 08:38:49</td>\n      <td>2018-08-08 08:55:23</td>\n      <td>2018-08-08 13:50:00</td>\n      <td>2018-08-17 18:06:29</td>\n      <td>2018-09-04 00:00:00</td>\n    </tr>\n    <tr>\n      <th>3</th>\n      <td>949d5b44dbf5de918fe9c16f97b45f8a</td>\n      <td>f88197465ea7920adcdbec7375364d82</td>\n      <td>delivered</td>\n      <td>2017-11-18 19:28:06</td>\n      <td>2017-11-18 19:45:59</td>\n      <td>2017-11-22 13:39:59</td>\n      <td>2017-12-02 00:28:42</td>\n      <td>2017-12-15 00:00:00</td>\n    </tr>\n    <tr>\n      <th>4</th>\n      <td>ad21c59c0840e6cb83a9ceb5573f8159</td>\n      <td>8ab97904e6daea8866dbdbc4fb7aad2c</td>\n      <td>delivered</td>\n      <td>2018-02-13 21:18:39</td>\n      <td>2018-02-13 22:20:29</td>\n      <td>2018-02-14 19:46:34</td>\n      <td>2018-02-16 18:17:02</td>\n      <td>2018-02-26 00:00:00</td>\n    </tr>\n    <tr>\n      <th>...</th>\n      <td>...</td>\n      <td>...</td>\n      <td>...</td>\n      <td>...</td>\n      <td>...</td>\n      <td>...</td>\n      <td>...</td>\n      <td>...</td>\n    </tr>\n    <tr>\n      <th>99436</th>\n      <td>9c5dedf39a927c1b2549525ed64a053c</td>\n      <td>39bd1228ee8140590ac3aca26f2dfe00</td>\n      <td>delivered</td>\n      <td>2017-03-09 09:54:05</td>\n      <td>2017-03-09 09:54:05</td>\n      <td>2017-03-10 11:18:03</td>\n      <td>2017-03-17 15:08:01</td>\n      <td>2017-03-28 00:00:00</td>\n    </tr>\n    <tr>\n      <th>99437</th>\n      <td>63943bddc261676b46f01ca7ac2f7bd8</td>\n      <td>1fca14ff2861355f6e5f14306ff977a7</td>\n      <td>delivered</td>\n      <td>2018-02-06 12:58:58</td>\n      <td>2018-02-06 13:10:37</td>\n      <td>2018-02-07 23:22:42</td>\n      <td>2018-02-28 17:37:56</td>\n      <td>2018-03-02 00:00:00</td>\n    </tr>\n    <tr>\n      <th>99438</th>\n      <td>83c1379a015df1e13d02aae0204711ab</td>\n      <td>1aa71eb042121263aafbe80c1b562c9c</td>\n      <td>delivered</td>\n      <td>2017-08-27 14:46:43</td>\n      <td>2017-08-27 15:04:16</td>\n      <td>2017-08-28 20:52:26</td>\n      <td>2017-09-21 11:24:17</td>\n      <td>2017-09-27 00:00:00</td>\n    </tr>\n    <tr>\n      <th>99439</th>\n      <td>11c177c8e97725db2631073c19f07b62</td>\n      <td>b331b74b18dc79bcdf6532d51e1637c1</td>\n      <td>delivered</td>\n      <td>2018-01-08 21:28:27</td>\n      <td>2018-01-08 21:36:21</td>\n      <td>2018-01-12 15:35:03</td>\n      <td>2018-01-25 23:32:54</td>\n      <td>2018-02-15 00:00:00</td>\n    </tr>\n    <tr>\n      <th>99440</th>\n      <td>66dea50a8b16d9b4dee7af250b4be1a5</td>\n      <td>edb027a75a1449115f6b43211ae02a24</td>\n      <td>delivered</td>\n      <td>2018-03-08 20:57:30</td>\n      <td>2018-03-09 11:20:28</td>\n      <td>2018-03-09 22:11:59</td>\n      <td>2018-03-16 13:08:30</td>\n      <td>2018-04-03 00:00:00</td>\n    </tr>\n  </tbody>\n</table>\n<p>99441 rows × 8 columns</p>\n</div>"
     },
     "metadata": {},
     "execution_count": 5
    }
   ],
   "source": [
    "df_olist_orders"
   ],
   "metadata": {
    "collapsed": false,
    "pycharm": {
     "name": "#%%\n",
     "is_executing": false
    }
   }
  },
  {
   "cell_type": "code",
   "execution_count": 6,
   "outputs": [
    {
     "output_type": "execute_result",
     "data": {
      "text/plain": [
       "                               order_id                       customer_id  \\\n",
       "0      e481f51cbdc54678b7cc49136f2d6af7  9ef432eb6251297304e76186b10a928d   \n",
       "1      53cdb2fc8bc7dce0b6741e2150273451  b0830fb4747a6c6d20dea0b8c802d7ef   \n",
       "2      47770eb9100c2d0c44946d9cf07ec65d  41ce2a54c0b03bf3443c3d931a367089   \n",
       "3      949d5b44dbf5de918fe9c16f97b45f8a  f88197465ea7920adcdbec7375364d82   \n",
       "4      ad21c59c0840e6cb83a9ceb5573f8159  8ab97904e6daea8866dbdbc4fb7aad2c   \n",
       "...                                 ...                               ...   \n",
       "99436  9c5dedf39a927c1b2549525ed64a053c  39bd1228ee8140590ac3aca26f2dfe00   \n",
       "99437  63943bddc261676b46f01ca7ac2f7bd8  1fca14ff2861355f6e5f14306ff977a7   \n",
       "99438  83c1379a015df1e13d02aae0204711ab  1aa71eb042121263aafbe80c1b562c9c   \n",
       "99439  11c177c8e97725db2631073c19f07b62  b331b74b18dc79bcdf6532d51e1637c1   \n",
       "99440  66dea50a8b16d9b4dee7af250b4be1a5  edb027a75a1449115f6b43211ae02a24   \n",
       "\n",
       "      order_status order_purchase_timestamp    order_approved_at  \\\n",
       "0        delivered      2017-10-02 10:56:33  2017-10-02 11:07:15   \n",
       "1        delivered      2018-07-24 20:41:37  2018-07-26 03:24:27   \n",
       "2        delivered      2018-08-08 08:38:49  2018-08-08 08:55:23   \n",
       "3        delivered      2017-11-18 19:28:06  2017-11-18 19:45:59   \n",
       "4        delivered      2018-02-13 21:18:39  2018-02-13 22:20:29   \n",
       "...            ...                      ...                  ...   \n",
       "99436    delivered      2017-03-09 09:54:05  2017-03-09 09:54:05   \n",
       "99437    delivered      2018-02-06 12:58:58  2018-02-06 13:10:37   \n",
       "99438    delivered      2017-08-27 14:46:43  2017-08-27 15:04:16   \n",
       "99439    delivered      2018-01-08 21:28:27  2018-01-08 21:36:21   \n",
       "99440    delivered      2018-03-08 20:57:30  2018-03-09 11:20:28   \n",
       "\n",
       "      order_delivered_carrier_date order_delivered_customer_date  \\\n",
       "0              2017-10-04 19:55:00           2017-10-10 21:25:13   \n",
       "1              2018-07-26 14:31:00           2018-08-07 15:27:45   \n",
       "2              2018-08-08 13:50:00           2018-08-17 18:06:29   \n",
       "3              2017-11-22 13:39:59           2017-12-02 00:28:42   \n",
       "4              2018-02-14 19:46:34           2018-02-16 18:17:02   \n",
       "...                            ...                           ...   \n",
       "99436          2017-03-10 11:18:03           2017-03-17 15:08:01   \n",
       "99437          2018-02-07 23:22:42           2018-02-28 17:37:56   \n",
       "99438          2017-08-28 20:52:26           2017-09-21 11:24:17   \n",
       "99439          2018-01-12 15:35:03           2018-01-25 23:32:54   \n",
       "99440          2018-03-09 22:11:59           2018-03-16 13:08:30   \n",
       "\n",
       "      order_estimated_delivery_date                customer_unique_id  \\\n",
       "0               2017-10-18 00:00:00  7c396fd4830fd04220f754e42b4e5bff   \n",
       "1               2018-08-13 00:00:00  af07308b275d755c9edb36a90c618231   \n",
       "2               2018-09-04 00:00:00  3a653a41f6f9fc3d2a113cf8398680e8   \n",
       "3               2017-12-15 00:00:00  7c142cf63193a1473d2e66489a9ae977   \n",
       "4               2018-02-26 00:00:00  72632f0f9dd73dfee390c9b22eb56dd6   \n",
       "...                             ...                               ...   \n",
       "99436           2017-03-28 00:00:00  6359f309b166b0196dbf7ad2ac62bb5a   \n",
       "99437           2018-03-02 00:00:00  da62f9e57a76d978d02ab5362c509660   \n",
       "99438           2017-09-27 00:00:00  737520a9aad80b3fbbdad19b66b37b30   \n",
       "99439           2018-02-15 00:00:00  5097a5312c8b157bb7be58ae360ef43c   \n",
       "99440           2018-04-03 00:00:00  60350aa974b26ff12caad89e55993bd6   \n",
       "\n",
       "       customer_zip_code_prefix            customer_city customer_state  \n",
       "0                          3149                sao paulo             SP  \n",
       "1                         47813                barreiras             BA  \n",
       "2                         75265               vianopolis             GO  \n",
       "3                         59296  sao goncalo do amarante             RN  \n",
       "4                          9195              santo andre             SP  \n",
       "...                         ...                      ...            ...  \n",
       "99436                     12209      sao jose dos campos             SP  \n",
       "99437                     11722             praia grande             SP  \n",
       "99438                     45920              nova vicosa             BA  \n",
       "99439                     28685                  japuiba             RJ  \n",
       "99440                     83750                     lapa             PR  \n",
       "\n",
       "[99441 rows x 12 columns]"
      ],
      "text/html": "<div>\n<style scoped>\n    .dataframe tbody tr th:only-of-type {\n        vertical-align: middle;\n    }\n\n    .dataframe tbody tr th {\n        vertical-align: top;\n    }\n\n    .dataframe thead th {\n        text-align: right;\n    }\n</style>\n<table border=\"1\" class=\"dataframe\">\n  <thead>\n    <tr style=\"text-align: right;\">\n      <th></th>\n      <th>order_id</th>\n      <th>customer_id</th>\n      <th>order_status</th>\n      <th>order_purchase_timestamp</th>\n      <th>order_approved_at</th>\n      <th>order_delivered_carrier_date</th>\n      <th>order_delivered_customer_date</th>\n      <th>order_estimated_delivery_date</th>\n      <th>customer_unique_id</th>\n      <th>customer_zip_code_prefix</th>\n      <th>customer_city</th>\n      <th>customer_state</th>\n    </tr>\n  </thead>\n  <tbody>\n    <tr>\n      <th>0</th>\n      <td>e481f51cbdc54678b7cc49136f2d6af7</td>\n      <td>9ef432eb6251297304e76186b10a928d</td>\n      <td>delivered</td>\n      <td>2017-10-02 10:56:33</td>\n      <td>2017-10-02 11:07:15</td>\n      <td>2017-10-04 19:55:00</td>\n      <td>2017-10-10 21:25:13</td>\n      <td>2017-10-18 00:00:00</td>\n      <td>7c396fd4830fd04220f754e42b4e5bff</td>\n      <td>3149</td>\n      <td>sao paulo</td>\n      <td>SP</td>\n    </tr>\n    <tr>\n      <th>1</th>\n      <td>53cdb2fc8bc7dce0b6741e2150273451</td>\n      <td>b0830fb4747a6c6d20dea0b8c802d7ef</td>\n      <td>delivered</td>\n      <td>2018-07-24 20:41:37</td>\n      <td>2018-07-26 03:24:27</td>\n      <td>2018-07-26 14:31:00</td>\n      <td>2018-08-07 15:27:45</td>\n      <td>2018-08-13 00:00:00</td>\n      <td>af07308b275d755c9edb36a90c618231</td>\n      <td>47813</td>\n      <td>barreiras</td>\n      <td>BA</td>\n    </tr>\n    <tr>\n      <th>2</th>\n      <td>47770eb9100c2d0c44946d9cf07ec65d</td>\n      <td>41ce2a54c0b03bf3443c3d931a367089</td>\n      <td>delivered</td>\n      <td>2018-08-08 08:38:49</td>\n      <td>2018-08-08 08:55:23</td>\n      <td>2018-08-08 13:50:00</td>\n      <td>2018-08-17 18:06:29</td>\n      <td>2018-09-04 00:00:00</td>\n      <td>3a653a41f6f9fc3d2a113cf8398680e8</td>\n      <td>75265</td>\n      <td>vianopolis</td>\n      <td>GO</td>\n    </tr>\n    <tr>\n      <th>3</th>\n      <td>949d5b44dbf5de918fe9c16f97b45f8a</td>\n      <td>f88197465ea7920adcdbec7375364d82</td>\n      <td>delivered</td>\n      <td>2017-11-18 19:28:06</td>\n      <td>2017-11-18 19:45:59</td>\n      <td>2017-11-22 13:39:59</td>\n      <td>2017-12-02 00:28:42</td>\n      <td>2017-12-15 00:00:00</td>\n      <td>7c142cf63193a1473d2e66489a9ae977</td>\n      <td>59296</td>\n      <td>sao goncalo do amarante</td>\n      <td>RN</td>\n    </tr>\n    <tr>\n      <th>4</th>\n      <td>ad21c59c0840e6cb83a9ceb5573f8159</td>\n      <td>8ab97904e6daea8866dbdbc4fb7aad2c</td>\n      <td>delivered</td>\n      <td>2018-02-13 21:18:39</td>\n      <td>2018-02-13 22:20:29</td>\n      <td>2018-02-14 19:46:34</td>\n      <td>2018-02-16 18:17:02</td>\n      <td>2018-02-26 00:00:00</td>\n      <td>72632f0f9dd73dfee390c9b22eb56dd6</td>\n      <td>9195</td>\n      <td>santo andre</td>\n      <td>SP</td>\n    </tr>\n    <tr>\n      <th>...</th>\n      <td>...</td>\n      <td>...</td>\n      <td>...</td>\n      <td>...</td>\n      <td>...</td>\n      <td>...</td>\n      <td>...</td>\n      <td>...</td>\n      <td>...</td>\n      <td>...</td>\n      <td>...</td>\n      <td>...</td>\n    </tr>\n    <tr>\n      <th>99436</th>\n      <td>9c5dedf39a927c1b2549525ed64a053c</td>\n      <td>39bd1228ee8140590ac3aca26f2dfe00</td>\n      <td>delivered</td>\n      <td>2017-03-09 09:54:05</td>\n      <td>2017-03-09 09:54:05</td>\n      <td>2017-03-10 11:18:03</td>\n      <td>2017-03-17 15:08:01</td>\n      <td>2017-03-28 00:00:00</td>\n      <td>6359f309b166b0196dbf7ad2ac62bb5a</td>\n      <td>12209</td>\n      <td>sao jose dos campos</td>\n      <td>SP</td>\n    </tr>\n    <tr>\n      <th>99437</th>\n      <td>63943bddc261676b46f01ca7ac2f7bd8</td>\n      <td>1fca14ff2861355f6e5f14306ff977a7</td>\n      <td>delivered</td>\n      <td>2018-02-06 12:58:58</td>\n      <td>2018-02-06 13:10:37</td>\n      <td>2018-02-07 23:22:42</td>\n      <td>2018-02-28 17:37:56</td>\n      <td>2018-03-02 00:00:00</td>\n      <td>da62f9e57a76d978d02ab5362c509660</td>\n      <td>11722</td>\n      <td>praia grande</td>\n      <td>SP</td>\n    </tr>\n    <tr>\n      <th>99438</th>\n      <td>83c1379a015df1e13d02aae0204711ab</td>\n      <td>1aa71eb042121263aafbe80c1b562c9c</td>\n      <td>delivered</td>\n      <td>2017-08-27 14:46:43</td>\n      <td>2017-08-27 15:04:16</td>\n      <td>2017-08-28 20:52:26</td>\n      <td>2017-09-21 11:24:17</td>\n      <td>2017-09-27 00:00:00</td>\n      <td>737520a9aad80b3fbbdad19b66b37b30</td>\n      <td>45920</td>\n      <td>nova vicosa</td>\n      <td>BA</td>\n    </tr>\n    <tr>\n      <th>99439</th>\n      <td>11c177c8e97725db2631073c19f07b62</td>\n      <td>b331b74b18dc79bcdf6532d51e1637c1</td>\n      <td>delivered</td>\n      <td>2018-01-08 21:28:27</td>\n      <td>2018-01-08 21:36:21</td>\n      <td>2018-01-12 15:35:03</td>\n      <td>2018-01-25 23:32:54</td>\n      <td>2018-02-15 00:00:00</td>\n      <td>5097a5312c8b157bb7be58ae360ef43c</td>\n      <td>28685</td>\n      <td>japuiba</td>\n      <td>RJ</td>\n    </tr>\n    <tr>\n      <th>99440</th>\n      <td>66dea50a8b16d9b4dee7af250b4be1a5</td>\n      <td>edb027a75a1449115f6b43211ae02a24</td>\n      <td>delivered</td>\n      <td>2018-03-08 20:57:30</td>\n      <td>2018-03-09 11:20:28</td>\n      <td>2018-03-09 22:11:59</td>\n      <td>2018-03-16 13:08:30</td>\n      <td>2018-04-03 00:00:00</td>\n      <td>60350aa974b26ff12caad89e55993bd6</td>\n      <td>83750</td>\n      <td>lapa</td>\n      <td>PR</td>\n    </tr>\n  </tbody>\n</table>\n<p>99441 rows × 12 columns</p>\n</div>"
     },
     "metadata": {},
     "execution_count": 6
    }
   ],
   "source": [
    "ordersAndCustomers = df_olist_orders.merge(df_olist_customers)\n",
    "\n",
    "ordersAndCustomers"
   ],
   "metadata": {
    "collapsed": false,
    "pycharm": {
     "name": "#%%\n",
     "is_executing": false
    }
   }
  },
  {
   "cell_type": "code",
   "execution_count": 7,
   "outputs": [
    {
     "output_type": "execute_result",
     "data": {
      "text/plain": [
       "                                order_id  order_item_id  \\\n",
       "0       00010242fe8c5a6d1ba2dd792cb16214              1   \n",
       "1       00018f77f2f0320c557190d7a144bdd3              1   \n",
       "2       000229ec398224ef6ca0657da4fc703e              1   \n",
       "3       00024acbcdf0a6daa1e931b038114c75              1   \n",
       "4       00042b26cf59d7ce69dfabb4e55b4fd9              1   \n",
       "...                                  ...            ...   \n",
       "113317  fffc94f6ce00a00581880bf54a75a037              1   \n",
       "113318  fffcd46ef2263f404302a634eb57f7eb              1   \n",
       "113319  fffce4705a9662cd70adb13d4a31832d              1   \n",
       "113320  fffe18544ffabc95dfada21779c9644f              1   \n",
       "113321  fffe41c64501cc87c801fd61db3f6244              1   \n",
       "\n",
       "                              product_id                         seller_id  \\\n",
       "0       4244733e06e7ecb4970a6e2683c13e61  48436dade18ac8b2bce089ec2a041202   \n",
       "1       e5f2d52b802189ee658865ca93d83a8f  dd7ddc04e1b6c2c614352b383efe2d36   \n",
       "2       c777355d18b72b67abbeef9df44fd0fd  5b51032eddd242adc84c38acab88f23d   \n",
       "3       7634da152a4610f1595efa32f14722fc  9d7a1d34a5052409006425275ba1c2b4   \n",
       "4       ac6c3623068f30de03045865e4e10089  df560393f3a51e74553ab94004ba5c87   \n",
       "...                                  ...                               ...   \n",
       "113317  4aa6014eceb682077f9dc4bffebc05b0  b8bc237ba3788b23da09c0f1f3a3288c   \n",
       "113318  32e07fd915822b0765e448c4dd74c828  f3c38ab652836d21de61fb8314b69182   \n",
       "113319  72a30483855e2eafc67aee5dc2560482  c3cfdc648177fdbbbb35635a37472c53   \n",
       "113320  9c422a519119dcad7575db5af1ba540e  2b3e4a2a3ea8e01938cabda2a3e5cc79   \n",
       "113321  350688d9dc1e75ff97be326363655e01  f7ccf836d21b2fb1de37564105216cc1   \n",
       "\n",
       "        shipping_limit_date   price  freight_value  \\\n",
       "0       2017-09-19 09:45:35   58.90          13.29   \n",
       "1       2017-05-03 11:05:13  239.90          19.93   \n",
       "2       2018-01-18 14:48:30  199.00          17.87   \n",
       "3       2018-08-15 10:10:18   12.99          12.79   \n",
       "4       2017-02-13 13:57:51  199.90          18.14   \n",
       "...                     ...     ...            ...   \n",
       "113317  2018-05-02 04:11:01  299.99          43.41   \n",
       "113318  2018-07-20 04:31:48  350.00          36.53   \n",
       "113319  2017-10-30 17:14:25   99.90          16.95   \n",
       "113320  2017-08-21 00:04:32   55.99           8.72   \n",
       "113321  2018-06-12 17:10:13   43.00          12.79   \n",
       "\n",
       "                               review_id  review_score review_comment_title  \\\n",
       "0       97ca439bc427b48bc1cd7177abe71365             5                  NaN   \n",
       "1       7b07bacd811c4117b742569b04ce3580             4                  NaN   \n",
       "2       0c5b33dea94867d1ac402749e5438e8b             5                  NaN   \n",
       "3       f4028d019cb58564807486a6aaf33817             4                  NaN   \n",
       "4       940144190dcba6351888cafa43f3a3a5             5                  NaN   \n",
       "...                                  ...           ...                  ...   \n",
       "113317  9185f849f32d82e216a4e025e0c50f5c             5                  NaN   \n",
       "113318  be803f6a93d64719fd685c1cc610918a             5                  NaN   \n",
       "113319  dbdd81cd59a1a9f94a10a990b4d48dce             5                  NaN   \n",
       "113320  fba117c9ac40d41ca7be54741f471303             5                  NaN   \n",
       "113321  b2700869a37f1aafc9dda829dc2f9027             5                  NaN   \n",
       "\n",
       "                                   review_comment_message  \\\n",
       "0          Perfeito, produto entregue antes do combinado.   \n",
       "1                                                     NaN   \n",
       "2       Chegou antes do prazo previsto e o produto sur...   \n",
       "3                                                     NaN   \n",
       "4                 Gostei pois veio no prazo determinado .   \n",
       "...                                                   ...   \n",
       "113317                                                NaN   \n",
       "113318                                                NaN   \n",
       "113319                                                NaN   \n",
       "113320    Recebi o produto antes do prazo e corretamente.   \n",
       "113321                                                NaN   \n",
       "\n",
       "       review_creation_date review_answer_timestamp  \n",
       "0       2017-09-21 00:00:00     2017-09-22 10:57:03  \n",
       "1       2017-05-13 00:00:00     2017-05-15 11:34:13  \n",
       "2       2018-01-23 00:00:00     2018-01-23 16:06:31  \n",
       "3       2018-08-15 00:00:00     2018-08-15 16:39:01  \n",
       "4       2017-03-02 00:00:00     2017-03-03 10:54:59  \n",
       "...                     ...                     ...  \n",
       "113317  2018-05-11 00:00:00     2018-05-14 12:53:47  \n",
       "113318  2018-07-24 00:00:00     2018-07-25 09:25:29  \n",
       "113319  2017-10-29 00:00:00     2017-10-29 21:33:52  \n",
       "113320  2017-08-17 00:00:00     2017-08-18 12:24:05  \n",
       "113321  2018-06-15 00:00:00     2018-06-17 21:27:09  \n",
       "\n",
       "[113322 rows x 13 columns]"
      ],
      "text/html": "<div>\n<style scoped>\n    .dataframe tbody tr th:only-of-type {\n        vertical-align: middle;\n    }\n\n    .dataframe tbody tr th {\n        vertical-align: top;\n    }\n\n    .dataframe thead th {\n        text-align: right;\n    }\n</style>\n<table border=\"1\" class=\"dataframe\">\n  <thead>\n    <tr style=\"text-align: right;\">\n      <th></th>\n      <th>order_id</th>\n      <th>order_item_id</th>\n      <th>product_id</th>\n      <th>seller_id</th>\n      <th>shipping_limit_date</th>\n      <th>price</th>\n      <th>freight_value</th>\n      <th>review_id</th>\n      <th>review_score</th>\n      <th>review_comment_title</th>\n      <th>review_comment_message</th>\n      <th>review_creation_date</th>\n      <th>review_answer_timestamp</th>\n    </tr>\n  </thead>\n  <tbody>\n    <tr>\n      <th>0</th>\n      <td>00010242fe8c5a6d1ba2dd792cb16214</td>\n      <td>1</td>\n      <td>4244733e06e7ecb4970a6e2683c13e61</td>\n      <td>48436dade18ac8b2bce089ec2a041202</td>\n      <td>2017-09-19 09:45:35</td>\n      <td>58.90</td>\n      <td>13.29</td>\n      <td>97ca439bc427b48bc1cd7177abe71365</td>\n      <td>5</td>\n      <td>NaN</td>\n      <td>Perfeito, produto entregue antes do combinado.</td>\n      <td>2017-09-21 00:00:00</td>\n      <td>2017-09-22 10:57:03</td>\n    </tr>\n    <tr>\n      <th>1</th>\n      <td>00018f77f2f0320c557190d7a144bdd3</td>\n      <td>1</td>\n      <td>e5f2d52b802189ee658865ca93d83a8f</td>\n      <td>dd7ddc04e1b6c2c614352b383efe2d36</td>\n      <td>2017-05-03 11:05:13</td>\n      <td>239.90</td>\n      <td>19.93</td>\n      <td>7b07bacd811c4117b742569b04ce3580</td>\n      <td>4</td>\n      <td>NaN</td>\n      <td>NaN</td>\n      <td>2017-05-13 00:00:00</td>\n      <td>2017-05-15 11:34:13</td>\n    </tr>\n    <tr>\n      <th>2</th>\n      <td>000229ec398224ef6ca0657da4fc703e</td>\n      <td>1</td>\n      <td>c777355d18b72b67abbeef9df44fd0fd</td>\n      <td>5b51032eddd242adc84c38acab88f23d</td>\n      <td>2018-01-18 14:48:30</td>\n      <td>199.00</td>\n      <td>17.87</td>\n      <td>0c5b33dea94867d1ac402749e5438e8b</td>\n      <td>5</td>\n      <td>NaN</td>\n      <td>Chegou antes do prazo previsto e o produto sur...</td>\n      <td>2018-01-23 00:00:00</td>\n      <td>2018-01-23 16:06:31</td>\n    </tr>\n    <tr>\n      <th>3</th>\n      <td>00024acbcdf0a6daa1e931b038114c75</td>\n      <td>1</td>\n      <td>7634da152a4610f1595efa32f14722fc</td>\n      <td>9d7a1d34a5052409006425275ba1c2b4</td>\n      <td>2018-08-15 10:10:18</td>\n      <td>12.99</td>\n      <td>12.79</td>\n      <td>f4028d019cb58564807486a6aaf33817</td>\n      <td>4</td>\n      <td>NaN</td>\n      <td>NaN</td>\n      <td>2018-08-15 00:00:00</td>\n      <td>2018-08-15 16:39:01</td>\n    </tr>\n    <tr>\n      <th>4</th>\n      <td>00042b26cf59d7ce69dfabb4e55b4fd9</td>\n      <td>1</td>\n      <td>ac6c3623068f30de03045865e4e10089</td>\n      <td>df560393f3a51e74553ab94004ba5c87</td>\n      <td>2017-02-13 13:57:51</td>\n      <td>199.90</td>\n      <td>18.14</td>\n      <td>940144190dcba6351888cafa43f3a3a5</td>\n      <td>5</td>\n      <td>NaN</td>\n      <td>Gostei pois veio no prazo determinado .</td>\n      <td>2017-03-02 00:00:00</td>\n      <td>2017-03-03 10:54:59</td>\n    </tr>\n    <tr>\n      <th>...</th>\n      <td>...</td>\n      <td>...</td>\n      <td>...</td>\n      <td>...</td>\n      <td>...</td>\n      <td>...</td>\n      <td>...</td>\n      <td>...</td>\n      <td>...</td>\n      <td>...</td>\n      <td>...</td>\n      <td>...</td>\n      <td>...</td>\n    </tr>\n    <tr>\n      <th>113317</th>\n      <td>fffc94f6ce00a00581880bf54a75a037</td>\n      <td>1</td>\n      <td>4aa6014eceb682077f9dc4bffebc05b0</td>\n      <td>b8bc237ba3788b23da09c0f1f3a3288c</td>\n      <td>2018-05-02 04:11:01</td>\n      <td>299.99</td>\n      <td>43.41</td>\n      <td>9185f849f32d82e216a4e025e0c50f5c</td>\n      <td>5</td>\n      <td>NaN</td>\n      <td>NaN</td>\n      <td>2018-05-11 00:00:00</td>\n      <td>2018-05-14 12:53:47</td>\n    </tr>\n    <tr>\n      <th>113318</th>\n      <td>fffcd46ef2263f404302a634eb57f7eb</td>\n      <td>1</td>\n      <td>32e07fd915822b0765e448c4dd74c828</td>\n      <td>f3c38ab652836d21de61fb8314b69182</td>\n      <td>2018-07-20 04:31:48</td>\n      <td>350.00</td>\n      <td>36.53</td>\n      <td>be803f6a93d64719fd685c1cc610918a</td>\n      <td>5</td>\n      <td>NaN</td>\n      <td>NaN</td>\n      <td>2018-07-24 00:00:00</td>\n      <td>2018-07-25 09:25:29</td>\n    </tr>\n    <tr>\n      <th>113319</th>\n      <td>fffce4705a9662cd70adb13d4a31832d</td>\n      <td>1</td>\n      <td>72a30483855e2eafc67aee5dc2560482</td>\n      <td>c3cfdc648177fdbbbb35635a37472c53</td>\n      <td>2017-10-30 17:14:25</td>\n      <td>99.90</td>\n      <td>16.95</td>\n      <td>dbdd81cd59a1a9f94a10a990b4d48dce</td>\n      <td>5</td>\n      <td>NaN</td>\n      <td>NaN</td>\n      <td>2017-10-29 00:00:00</td>\n      <td>2017-10-29 21:33:52</td>\n    </tr>\n    <tr>\n      <th>113320</th>\n      <td>fffe18544ffabc95dfada21779c9644f</td>\n      <td>1</td>\n      <td>9c422a519119dcad7575db5af1ba540e</td>\n      <td>2b3e4a2a3ea8e01938cabda2a3e5cc79</td>\n      <td>2017-08-21 00:04:32</td>\n      <td>55.99</td>\n      <td>8.72</td>\n      <td>fba117c9ac40d41ca7be54741f471303</td>\n      <td>5</td>\n      <td>NaN</td>\n      <td>Recebi o produto antes do prazo e corretamente.</td>\n      <td>2017-08-17 00:00:00</td>\n      <td>2017-08-18 12:24:05</td>\n    </tr>\n    <tr>\n      <th>113321</th>\n      <td>fffe41c64501cc87c801fd61db3f6244</td>\n      <td>1</td>\n      <td>350688d9dc1e75ff97be326363655e01</td>\n      <td>f7ccf836d21b2fb1de37564105216cc1</td>\n      <td>2018-06-12 17:10:13</td>\n      <td>43.00</td>\n      <td>12.79</td>\n      <td>b2700869a37f1aafc9dda829dc2f9027</td>\n      <td>5</td>\n      <td>NaN</td>\n      <td>NaN</td>\n      <td>2018-06-15 00:00:00</td>\n      <td>2018-06-17 21:27:09</td>\n    </tr>\n  </tbody>\n</table>\n<p>113322 rows × 13 columns</p>\n</div>"
     },
     "metadata": {},
     "execution_count": 7
    }
   ],
   "source": [
    "ordersAndReviews = df_olist_order_items.merge(df_olist_order_review)\n",
    "ordersAndReviews    "
   ],
   "metadata": {
    "collapsed": false,
    "pycharm": {
     "name": "#%%\n",
     "is_executing": false
    }
   }
  },
  {
   "cell_type": "code",
   "execution_count": 8,
   "outputs": [
    {
     "output_type": "execute_result",
     "data": {
      "text/plain": [
       "                               seller_id  seller_zip_code_prefix seller_city  \\\n",
       "0       3442f8959a84dea7ee197c632cb2df15                   13023    campinas   \n",
       "1       3442f8959a84dea7ee197c632cb2df15                   13023    campinas   \n",
       "2       3442f8959a84dea7ee197c632cb2df15                   13023    campinas   \n",
       "3       d1b65fc7debc3361ea86b5f14c68d2e2                   13844  mogi guacu   \n",
       "4       d1b65fc7debc3361ea86b5f14c68d2e2                   13844  mogi guacu   \n",
       "...                                  ...                     ...         ...   \n",
       "112645  e603cf3fec55f8697c9059638d6c8eb5                   96080     pelotas   \n",
       "112646  e603cf3fec55f8697c9059638d6c8eb5                   96080     pelotas   \n",
       "112647  e603cf3fec55f8697c9059638d6c8eb5                   96080     pelotas   \n",
       "112648  e603cf3fec55f8697c9059638d6c8eb5                   96080     pelotas   \n",
       "112649  9e25199f6ef7e7c347120ff175652c3b                   12051     taubate   \n",
       "\n",
       "       seller_state                          order_id  order_item_id  \\\n",
       "0                SP  4a90af3e85dd563884e2afeab1091394              1   \n",
       "1                SP  6d953888a914b67350d5bc4d48f2acab              1   \n",
       "2                SP  bc8a5de6abf5b14f98a6135a7fb46731              2   \n",
       "3                SP  035201c3c82a97f8a25dd6bd5244b2d5              1   \n",
       "4                SP  0504447548229e075dea8441b37b1e2a              1   \n",
       "...             ...                               ...            ...   \n",
       "112645           RS  7aa50aad959e4345b45b9732bc346a6e              1   \n",
       "112646           RS  aae373a2cc64ed2d1f262aa56e70b7e8              1   \n",
       "112647           RS  bc34d5b185152cb88b9f5db391dcd1cb              1   \n",
       "112648           RS  d1edb80f6670902ebbb11765b96873da              1   \n",
       "112649           SP  f7b6b85f6fd2cf9aac15731dca998844              1   \n",
       "\n",
       "                              product_id  shipping_limit_date   price  \\\n",
       "0       ffb64e34a37740dafb6c88f1abd1fa61  2017-08-25 20:50:19  106.20   \n",
       "1       f4621f8ad6f54a2e3c408884068be46d  2017-05-11 16:25:11  101.70   \n",
       "2       325a06bcce0da45b7f4ecf2797dd40e4  2017-09-05 12:50:19   10.80   \n",
       "3       1c36a5285f7f3b1ed2637d7c528ce5ff  2017-11-22 04:30:29   89.99   \n",
       "4       8852eb03b04ec3268a66e9b696e25f6f  2017-10-06 02:14:42  199.90   \n",
       "...                                  ...                  ...     ...   \n",
       "112645  e891d4a9622cae3b9fc2ec558bda155b  2017-03-10 04:03:43   27.00   \n",
       "112646  e891d4a9622cae3b9fc2ec558bda155b  2017-02-15 16:42:59   27.00   \n",
       "112647  e891d4a9622cae3b9fc2ec558bda155b  2017-04-11 18:05:17   27.00   \n",
       "112648  e891d4a9622cae3b9fc2ec558bda155b  2017-06-26 17:30:16   27.00   \n",
       "112649  179bb56045bec397c52ef3c8183dabb6  2017-03-31 10:10:27   12.50   \n",
       "\n",
       "        freight_value  \n",
       "0                9.56  \n",
       "1               15.92  \n",
       "2                2.42  \n",
       "3               45.09  \n",
       "4               21.89  \n",
       "...               ...  \n",
       "112645          16.05  \n",
       "112646          10.96  \n",
       "112647          16.05  \n",
       "112648          12.48  \n",
       "112649          14.52  \n",
       "\n",
       "[112650 rows x 10 columns]"
      ],
      "text/html": "<div>\n<style scoped>\n    .dataframe tbody tr th:only-of-type {\n        vertical-align: middle;\n    }\n\n    .dataframe tbody tr th {\n        vertical-align: top;\n    }\n\n    .dataframe thead th {\n        text-align: right;\n    }\n</style>\n<table border=\"1\" class=\"dataframe\">\n  <thead>\n    <tr style=\"text-align: right;\">\n      <th></th>\n      <th>seller_id</th>\n      <th>seller_zip_code_prefix</th>\n      <th>seller_city</th>\n      <th>seller_state</th>\n      <th>order_id</th>\n      <th>order_item_id</th>\n      <th>product_id</th>\n      <th>shipping_limit_date</th>\n      <th>price</th>\n      <th>freight_value</th>\n    </tr>\n  </thead>\n  <tbody>\n    <tr>\n      <th>0</th>\n      <td>3442f8959a84dea7ee197c632cb2df15</td>\n      <td>13023</td>\n      <td>campinas</td>\n      <td>SP</td>\n      <td>4a90af3e85dd563884e2afeab1091394</td>\n      <td>1</td>\n      <td>ffb64e34a37740dafb6c88f1abd1fa61</td>\n      <td>2017-08-25 20:50:19</td>\n      <td>106.20</td>\n      <td>9.56</td>\n    </tr>\n    <tr>\n      <th>1</th>\n      <td>3442f8959a84dea7ee197c632cb2df15</td>\n      <td>13023</td>\n      <td>campinas</td>\n      <td>SP</td>\n      <td>6d953888a914b67350d5bc4d48f2acab</td>\n      <td>1</td>\n      <td>f4621f8ad6f54a2e3c408884068be46d</td>\n      <td>2017-05-11 16:25:11</td>\n      <td>101.70</td>\n      <td>15.92</td>\n    </tr>\n    <tr>\n      <th>2</th>\n      <td>3442f8959a84dea7ee197c632cb2df15</td>\n      <td>13023</td>\n      <td>campinas</td>\n      <td>SP</td>\n      <td>bc8a5de6abf5b14f98a6135a7fb46731</td>\n      <td>2</td>\n      <td>325a06bcce0da45b7f4ecf2797dd40e4</td>\n      <td>2017-09-05 12:50:19</td>\n      <td>10.80</td>\n      <td>2.42</td>\n    </tr>\n    <tr>\n      <th>3</th>\n      <td>d1b65fc7debc3361ea86b5f14c68d2e2</td>\n      <td>13844</td>\n      <td>mogi guacu</td>\n      <td>SP</td>\n      <td>035201c3c82a97f8a25dd6bd5244b2d5</td>\n      <td>1</td>\n      <td>1c36a5285f7f3b1ed2637d7c528ce5ff</td>\n      <td>2017-11-22 04:30:29</td>\n      <td>89.99</td>\n      <td>45.09</td>\n    </tr>\n    <tr>\n      <th>4</th>\n      <td>d1b65fc7debc3361ea86b5f14c68d2e2</td>\n      <td>13844</td>\n      <td>mogi guacu</td>\n      <td>SP</td>\n      <td>0504447548229e075dea8441b37b1e2a</td>\n      <td>1</td>\n      <td>8852eb03b04ec3268a66e9b696e25f6f</td>\n      <td>2017-10-06 02:14:42</td>\n      <td>199.90</td>\n      <td>21.89</td>\n    </tr>\n    <tr>\n      <th>...</th>\n      <td>...</td>\n      <td>...</td>\n      <td>...</td>\n      <td>...</td>\n      <td>...</td>\n      <td>...</td>\n      <td>...</td>\n      <td>...</td>\n      <td>...</td>\n      <td>...</td>\n    </tr>\n    <tr>\n      <th>112645</th>\n      <td>e603cf3fec55f8697c9059638d6c8eb5</td>\n      <td>96080</td>\n      <td>pelotas</td>\n      <td>RS</td>\n      <td>7aa50aad959e4345b45b9732bc346a6e</td>\n      <td>1</td>\n      <td>e891d4a9622cae3b9fc2ec558bda155b</td>\n      <td>2017-03-10 04:03:43</td>\n      <td>27.00</td>\n      <td>16.05</td>\n    </tr>\n    <tr>\n      <th>112646</th>\n      <td>e603cf3fec55f8697c9059638d6c8eb5</td>\n      <td>96080</td>\n      <td>pelotas</td>\n      <td>RS</td>\n      <td>aae373a2cc64ed2d1f262aa56e70b7e8</td>\n      <td>1</td>\n      <td>e891d4a9622cae3b9fc2ec558bda155b</td>\n      <td>2017-02-15 16:42:59</td>\n      <td>27.00</td>\n      <td>10.96</td>\n    </tr>\n    <tr>\n      <th>112647</th>\n      <td>e603cf3fec55f8697c9059638d6c8eb5</td>\n      <td>96080</td>\n      <td>pelotas</td>\n      <td>RS</td>\n      <td>bc34d5b185152cb88b9f5db391dcd1cb</td>\n      <td>1</td>\n      <td>e891d4a9622cae3b9fc2ec558bda155b</td>\n      <td>2017-04-11 18:05:17</td>\n      <td>27.00</td>\n      <td>16.05</td>\n    </tr>\n    <tr>\n      <th>112648</th>\n      <td>e603cf3fec55f8697c9059638d6c8eb5</td>\n      <td>96080</td>\n      <td>pelotas</td>\n      <td>RS</td>\n      <td>d1edb80f6670902ebbb11765b96873da</td>\n      <td>1</td>\n      <td>e891d4a9622cae3b9fc2ec558bda155b</td>\n      <td>2017-06-26 17:30:16</td>\n      <td>27.00</td>\n      <td>12.48</td>\n    </tr>\n    <tr>\n      <th>112649</th>\n      <td>9e25199f6ef7e7c347120ff175652c3b</td>\n      <td>12051</td>\n      <td>taubate</td>\n      <td>SP</td>\n      <td>f7b6b85f6fd2cf9aac15731dca998844</td>\n      <td>1</td>\n      <td>179bb56045bec397c52ef3c8183dabb6</td>\n      <td>2017-03-31 10:10:27</td>\n      <td>12.50</td>\n      <td>14.52</td>\n    </tr>\n  </tbody>\n</table>\n<p>112650 rows × 10 columns</p>\n</div>"
     },
     "metadata": {},
     "execution_count": 8
    }
   ],
   "source": [
    "sellersAndOrderItems = df_olist_sellers.merge(df_olist_order_items)\n",
    "sellersAndOrderItems"
   ],
   "metadata": {
    "collapsed": false,
    "pycharm": {
     "name": "#%%\n",
     "is_executing": false
    }
   }
  },
  {
   "cell_type": "code",
   "execution_count": 9,
   "outputs": [
    {
     "output_type": "execute_result",
     "data": {
      "text/plain": [
       "                               order_id                       customer_id  \\\n",
       "0      e481f51cbdc54678b7cc49136f2d6af7  9ef432eb6251297304e76186b10a928d   \n",
       "1      53cdb2fc8bc7dce0b6741e2150273451  b0830fb4747a6c6d20dea0b8c802d7ef   \n",
       "2      47770eb9100c2d0c44946d9cf07ec65d  41ce2a54c0b03bf3443c3d931a367089   \n",
       "3      949d5b44dbf5de918fe9c16f97b45f8a  f88197465ea7920adcdbec7375364d82   \n",
       "4      ad21c59c0840e6cb83a9ceb5573f8159  8ab97904e6daea8866dbdbc4fb7aad2c   \n",
       "...                                 ...                               ...   \n",
       "99436  9c5dedf39a927c1b2549525ed64a053c  39bd1228ee8140590ac3aca26f2dfe00   \n",
       "99437  63943bddc261676b46f01ca7ac2f7bd8  1fca14ff2861355f6e5f14306ff977a7   \n",
       "99438  83c1379a015df1e13d02aae0204711ab  1aa71eb042121263aafbe80c1b562c9c   \n",
       "99439  11c177c8e97725db2631073c19f07b62  b331b74b18dc79bcdf6532d51e1637c1   \n",
       "99440  66dea50a8b16d9b4dee7af250b4be1a5  edb027a75a1449115f6b43211ae02a24   \n",
       "\n",
       "      order_status order_purchase_timestamp    order_approved_at  \\\n",
       "0        delivered      2017-10-02 10:56:33  2017-10-02 11:07:15   \n",
       "1        delivered      2018-07-24 20:41:37  2018-07-26 03:24:27   \n",
       "2        delivered      2018-08-08 08:38:49  2018-08-08 08:55:23   \n",
       "3        delivered      2017-11-18 19:28:06  2017-11-18 19:45:59   \n",
       "4        delivered      2018-02-13 21:18:39  2018-02-13 22:20:29   \n",
       "...            ...                      ...                  ...   \n",
       "99436    delivered      2017-03-09 09:54:05  2017-03-09 09:54:05   \n",
       "99437    delivered      2018-02-06 12:58:58  2018-02-06 13:10:37   \n",
       "99438    delivered      2017-08-27 14:46:43  2017-08-27 15:04:16   \n",
       "99439    delivered      2018-01-08 21:28:27  2018-01-08 21:36:21   \n",
       "99440    delivered      2018-03-08 20:57:30  2018-03-09 11:20:28   \n",
       "\n",
       "      order_delivered_carrier_date order_delivered_customer_date  \\\n",
       "0              2017-10-04 19:55:00           2017-10-10 21:25:13   \n",
       "1              2018-07-26 14:31:00           2018-08-07 15:27:45   \n",
       "2              2018-08-08 13:50:00           2018-08-17 18:06:29   \n",
       "3              2017-11-22 13:39:59           2017-12-02 00:28:42   \n",
       "4              2018-02-14 19:46:34           2018-02-16 18:17:02   \n",
       "...                            ...                           ...   \n",
       "99436          2017-03-10 11:18:03           2017-03-17 15:08:01   \n",
       "99437          2018-02-07 23:22:42           2018-02-28 17:37:56   \n",
       "99438          2017-08-28 20:52:26           2017-09-21 11:24:17   \n",
       "99439          2018-01-12 15:35:03           2018-01-25 23:32:54   \n",
       "99440          2018-03-09 22:11:59           2018-03-16 13:08:30   \n",
       "\n",
       "      order_estimated_delivery_date                customer_unique_id  \\\n",
       "0               2017-10-18 00:00:00  7c396fd4830fd04220f754e42b4e5bff   \n",
       "1               2018-08-13 00:00:00  af07308b275d755c9edb36a90c618231   \n",
       "2               2018-09-04 00:00:00  3a653a41f6f9fc3d2a113cf8398680e8   \n",
       "3               2017-12-15 00:00:00  7c142cf63193a1473d2e66489a9ae977   \n",
       "4               2018-02-26 00:00:00  72632f0f9dd73dfee390c9b22eb56dd6   \n",
       "...                             ...                               ...   \n",
       "99436           2017-03-28 00:00:00  6359f309b166b0196dbf7ad2ac62bb5a   \n",
       "99437           2018-03-02 00:00:00  da62f9e57a76d978d02ab5362c509660   \n",
       "99438           2017-09-27 00:00:00  737520a9aad80b3fbbdad19b66b37b30   \n",
       "99439           2018-02-15 00:00:00  5097a5312c8b157bb7be58ae360ef43c   \n",
       "99440           2018-04-03 00:00:00  60350aa974b26ff12caad89e55993bd6   \n",
       "\n",
       "       customer_zip_code_prefix            customer_city customer_state  \n",
       "0                          3149                sao paulo             SP  \n",
       "1                         47813                barreiras             BA  \n",
       "2                         75265               vianopolis             GO  \n",
       "3                         59296  sao goncalo do amarante             RN  \n",
       "4                          9195              santo andre             SP  \n",
       "...                         ...                      ...            ...  \n",
       "99436                     12209      sao jose dos campos             SP  \n",
       "99437                     11722             praia grande             SP  \n",
       "99438                     45920              nova vicosa             BA  \n",
       "99439                     28685                  japuiba             RJ  \n",
       "99440                     83750                     lapa             PR  \n",
       "\n",
       "[99441 rows x 12 columns]"
      ],
      "text/html": "<div>\n<style scoped>\n    .dataframe tbody tr th:only-of-type {\n        vertical-align: middle;\n    }\n\n    .dataframe tbody tr th {\n        vertical-align: top;\n    }\n\n    .dataframe thead th {\n        text-align: right;\n    }\n</style>\n<table border=\"1\" class=\"dataframe\">\n  <thead>\n    <tr style=\"text-align: right;\">\n      <th></th>\n      <th>order_id</th>\n      <th>customer_id</th>\n      <th>order_status</th>\n      <th>order_purchase_timestamp</th>\n      <th>order_approved_at</th>\n      <th>order_delivered_carrier_date</th>\n      <th>order_delivered_customer_date</th>\n      <th>order_estimated_delivery_date</th>\n      <th>customer_unique_id</th>\n      <th>customer_zip_code_prefix</th>\n      <th>customer_city</th>\n      <th>customer_state</th>\n    </tr>\n  </thead>\n  <tbody>\n    <tr>\n      <th>0</th>\n      <td>e481f51cbdc54678b7cc49136f2d6af7</td>\n      <td>9ef432eb6251297304e76186b10a928d</td>\n      <td>delivered</td>\n      <td>2017-10-02 10:56:33</td>\n      <td>2017-10-02 11:07:15</td>\n      <td>2017-10-04 19:55:00</td>\n      <td>2017-10-10 21:25:13</td>\n      <td>2017-10-18 00:00:00</td>\n      <td>7c396fd4830fd04220f754e42b4e5bff</td>\n      <td>3149</td>\n      <td>sao paulo</td>\n      <td>SP</td>\n    </tr>\n    <tr>\n      <th>1</th>\n      <td>53cdb2fc8bc7dce0b6741e2150273451</td>\n      <td>b0830fb4747a6c6d20dea0b8c802d7ef</td>\n      <td>delivered</td>\n      <td>2018-07-24 20:41:37</td>\n      <td>2018-07-26 03:24:27</td>\n      <td>2018-07-26 14:31:00</td>\n      <td>2018-08-07 15:27:45</td>\n      <td>2018-08-13 00:00:00</td>\n      <td>af07308b275d755c9edb36a90c618231</td>\n      <td>47813</td>\n      <td>barreiras</td>\n      <td>BA</td>\n    </tr>\n    <tr>\n      <th>2</th>\n      <td>47770eb9100c2d0c44946d9cf07ec65d</td>\n      <td>41ce2a54c0b03bf3443c3d931a367089</td>\n      <td>delivered</td>\n      <td>2018-08-08 08:38:49</td>\n      <td>2018-08-08 08:55:23</td>\n      <td>2018-08-08 13:50:00</td>\n      <td>2018-08-17 18:06:29</td>\n      <td>2018-09-04 00:00:00</td>\n      <td>3a653a41f6f9fc3d2a113cf8398680e8</td>\n      <td>75265</td>\n      <td>vianopolis</td>\n      <td>GO</td>\n    </tr>\n    <tr>\n      <th>3</th>\n      <td>949d5b44dbf5de918fe9c16f97b45f8a</td>\n      <td>f88197465ea7920adcdbec7375364d82</td>\n      <td>delivered</td>\n      <td>2017-11-18 19:28:06</td>\n      <td>2017-11-18 19:45:59</td>\n      <td>2017-11-22 13:39:59</td>\n      <td>2017-12-02 00:28:42</td>\n      <td>2017-12-15 00:00:00</td>\n      <td>7c142cf63193a1473d2e66489a9ae977</td>\n      <td>59296</td>\n      <td>sao goncalo do amarante</td>\n      <td>RN</td>\n    </tr>\n    <tr>\n      <th>4</th>\n      <td>ad21c59c0840e6cb83a9ceb5573f8159</td>\n      <td>8ab97904e6daea8866dbdbc4fb7aad2c</td>\n      <td>delivered</td>\n      <td>2018-02-13 21:18:39</td>\n      <td>2018-02-13 22:20:29</td>\n      <td>2018-02-14 19:46:34</td>\n      <td>2018-02-16 18:17:02</td>\n      <td>2018-02-26 00:00:00</td>\n      <td>72632f0f9dd73dfee390c9b22eb56dd6</td>\n      <td>9195</td>\n      <td>santo andre</td>\n      <td>SP</td>\n    </tr>\n    <tr>\n      <th>...</th>\n      <td>...</td>\n      <td>...</td>\n      <td>...</td>\n      <td>...</td>\n      <td>...</td>\n      <td>...</td>\n      <td>...</td>\n      <td>...</td>\n      <td>...</td>\n      <td>...</td>\n      <td>...</td>\n      <td>...</td>\n    </tr>\n    <tr>\n      <th>99436</th>\n      <td>9c5dedf39a927c1b2549525ed64a053c</td>\n      <td>39bd1228ee8140590ac3aca26f2dfe00</td>\n      <td>delivered</td>\n      <td>2017-03-09 09:54:05</td>\n      <td>2017-03-09 09:54:05</td>\n      <td>2017-03-10 11:18:03</td>\n      <td>2017-03-17 15:08:01</td>\n      <td>2017-03-28 00:00:00</td>\n      <td>6359f309b166b0196dbf7ad2ac62bb5a</td>\n      <td>12209</td>\n      <td>sao jose dos campos</td>\n      <td>SP</td>\n    </tr>\n    <tr>\n      <th>99437</th>\n      <td>63943bddc261676b46f01ca7ac2f7bd8</td>\n      <td>1fca14ff2861355f6e5f14306ff977a7</td>\n      <td>delivered</td>\n      <td>2018-02-06 12:58:58</td>\n      <td>2018-02-06 13:10:37</td>\n      <td>2018-02-07 23:22:42</td>\n      <td>2018-02-28 17:37:56</td>\n      <td>2018-03-02 00:00:00</td>\n      <td>da62f9e57a76d978d02ab5362c509660</td>\n      <td>11722</td>\n      <td>praia grande</td>\n      <td>SP</td>\n    </tr>\n    <tr>\n      <th>99438</th>\n      <td>83c1379a015df1e13d02aae0204711ab</td>\n      <td>1aa71eb042121263aafbe80c1b562c9c</td>\n      <td>delivered</td>\n      <td>2017-08-27 14:46:43</td>\n      <td>2017-08-27 15:04:16</td>\n      <td>2017-08-28 20:52:26</td>\n      <td>2017-09-21 11:24:17</td>\n      <td>2017-09-27 00:00:00</td>\n      <td>737520a9aad80b3fbbdad19b66b37b30</td>\n      <td>45920</td>\n      <td>nova vicosa</td>\n      <td>BA</td>\n    </tr>\n    <tr>\n      <th>99439</th>\n      <td>11c177c8e97725db2631073c19f07b62</td>\n      <td>b331b74b18dc79bcdf6532d51e1637c1</td>\n      <td>delivered</td>\n      <td>2018-01-08 21:28:27</td>\n      <td>2018-01-08 21:36:21</td>\n      <td>2018-01-12 15:35:03</td>\n      <td>2018-01-25 23:32:54</td>\n      <td>2018-02-15 00:00:00</td>\n      <td>5097a5312c8b157bb7be58ae360ef43c</td>\n      <td>28685</td>\n      <td>japuiba</td>\n      <td>RJ</td>\n    </tr>\n    <tr>\n      <th>99440</th>\n      <td>66dea50a8b16d9b4dee7af250b4be1a5</td>\n      <td>edb027a75a1449115f6b43211ae02a24</td>\n      <td>delivered</td>\n      <td>2018-03-08 20:57:30</td>\n      <td>2018-03-09 11:20:28</td>\n      <td>2018-03-09 22:11:59</td>\n      <td>2018-03-16 13:08:30</td>\n      <td>2018-04-03 00:00:00</td>\n      <td>60350aa974b26ff12caad89e55993bd6</td>\n      <td>83750</td>\n      <td>lapa</td>\n      <td>PR</td>\n    </tr>\n  </tbody>\n</table>\n<p>99441 rows × 12 columns</p>\n</div>"
     },
     "metadata": {},
     "execution_count": 9
    }
   ],
   "source": [
    "\n",
    "ordersAndCustomers "
   ],
   "metadata": {
    "collapsed": false,
    "pycharm": {
     "name": "#%%\n",
     "is_executing": false
    }
   }
  },
  {
   "cell_type": "code",
   "execution_count": 10,
   "outputs": [
    {
     "output_type": "execute_result",
     "data": {
      "text/plain": [
       "                               seller_id  seller_zip_code_prefix seller_city  \\\n",
       "0       3442f8959a84dea7ee197c632cb2df15                   13023    campinas   \n",
       "1       3442f8959a84dea7ee197c632cb2df15                   13023    campinas   \n",
       "2       3442f8959a84dea7ee197c632cb2df15                   13023    campinas   \n",
       "3       8c16d1f32a54d92897cc437244442e1b                   89023    blumenau   \n",
       "4       d1b65fc7debc3361ea86b5f14c68d2e2                   13844  mogi guacu   \n",
       "...                                  ...                     ...         ...   \n",
       "117596  e603cf3fec55f8697c9059638d6c8eb5                   96080     pelotas   \n",
       "117597  e603cf3fec55f8697c9059638d6c8eb5                   96080     pelotas   \n",
       "117598  e603cf3fec55f8697c9059638d6c8eb5                   96080     pelotas   \n",
       "117599  e603cf3fec55f8697c9059638d6c8eb5                   96080     pelotas   \n",
       "117600  9e25199f6ef7e7c347120ff175652c3b                   12051     taubate   \n",
       "\n",
       "       seller_state                          order_id  order_item_id  \\\n",
       "0                SP  4a90af3e85dd563884e2afeab1091394              1   \n",
       "1                SP  6d953888a914b67350d5bc4d48f2acab              1   \n",
       "2                SP  bc8a5de6abf5b14f98a6135a7fb46731              2   \n",
       "3                SC  bc8a5de6abf5b14f98a6135a7fb46731              1   \n",
       "4                SP  035201c3c82a97f8a25dd6bd5244b2d5              1   \n",
       "...             ...                               ...            ...   \n",
       "117596           RS  7aa50aad959e4345b45b9732bc346a6e              1   \n",
       "117597           RS  aae373a2cc64ed2d1f262aa56e70b7e8              1   \n",
       "117598           RS  bc34d5b185152cb88b9f5db391dcd1cb              1   \n",
       "117599           RS  d1edb80f6670902ebbb11765b96873da              1   \n",
       "117600           SP  f7b6b85f6fd2cf9aac15731dca998844              1   \n",
       "\n",
       "                              product_id  shipping_limit_date   price  \\\n",
       "0       ffb64e34a37740dafb6c88f1abd1fa61  2017-08-25 20:50:19  106.20   \n",
       "1       f4621f8ad6f54a2e3c408884068be46d  2017-05-11 16:25:11  101.70   \n",
       "2       325a06bcce0da45b7f4ecf2797dd40e4  2017-09-05 12:50:19   10.80   \n",
       "3       1b37d55343061aa2b18b807945ff9831  2017-09-05 12:50:19  118.90   \n",
       "4       1c36a5285f7f3b1ed2637d7c528ce5ff  2017-11-22 04:30:29   89.99   \n",
       "...                                  ...                  ...     ...   \n",
       "117596  e891d4a9622cae3b9fc2ec558bda155b  2017-03-10 04:03:43   27.00   \n",
       "117597  e891d4a9622cae3b9fc2ec558bda155b  2017-02-15 16:42:59   27.00   \n",
       "117598  e891d4a9622cae3b9fc2ec558bda155b  2017-04-11 18:05:17   27.00   \n",
       "117599  e891d4a9622cae3b9fc2ec558bda155b  2017-06-26 17:30:16   27.00   \n",
       "117600  179bb56045bec397c52ef3c8183dabb6  2017-03-31 10:10:27   12.50   \n",
       "\n",
       "        freight_value  payment_sequential payment_type  payment_installments  \\\n",
       "0                9.56                   1  credit_card                     2   \n",
       "1               15.92                   1  credit_card                     2   \n",
       "2                2.42                   1  credit_card                     4   \n",
       "3               26.68                   1  credit_card                     4   \n",
       "4               45.09                   1       boleto                     1   \n",
       "...               ...                 ...          ...                   ...   \n",
       "117596          16.05                   1       boleto                     1   \n",
       "117597          10.96                   1  credit_card                     1   \n",
       "117598          16.05                   1  credit_card                     1   \n",
       "117599          12.48                   1  credit_card                     1   \n",
       "117600          14.52                   1  credit_card                     1   \n",
       "\n",
       "        payment_value  price-freight_value  \n",
       "0              115.76                96.64  \n",
       "1              117.62                85.78  \n",
       "2              158.80                 8.38  \n",
       "3              158.80                92.22  \n",
       "4              135.08                44.90  \n",
       "...               ...                  ...  \n",
       "117596          43.05                10.95  \n",
       "117597          37.96                16.04  \n",
       "117598          43.05                10.95  \n",
       "117599          39.48                14.52  \n",
       "117600          27.02                -2.02  \n",
       "\n",
       "[117601 rows x 15 columns]"
      ],
      "text/html": "<div>\n<style scoped>\n    .dataframe tbody tr th:only-of-type {\n        vertical-align: middle;\n    }\n\n    .dataframe tbody tr th {\n        vertical-align: top;\n    }\n\n    .dataframe thead th {\n        text-align: right;\n    }\n</style>\n<table border=\"1\" class=\"dataframe\">\n  <thead>\n    <tr style=\"text-align: right;\">\n      <th></th>\n      <th>seller_id</th>\n      <th>seller_zip_code_prefix</th>\n      <th>seller_city</th>\n      <th>seller_state</th>\n      <th>order_id</th>\n      <th>order_item_id</th>\n      <th>product_id</th>\n      <th>shipping_limit_date</th>\n      <th>price</th>\n      <th>freight_value</th>\n      <th>payment_sequential</th>\n      <th>payment_type</th>\n      <th>payment_installments</th>\n      <th>payment_value</th>\n      <th>price-freight_value</th>\n    </tr>\n  </thead>\n  <tbody>\n    <tr>\n      <th>0</th>\n      <td>3442f8959a84dea7ee197c632cb2df15</td>\n      <td>13023</td>\n      <td>campinas</td>\n      <td>SP</td>\n      <td>4a90af3e85dd563884e2afeab1091394</td>\n      <td>1</td>\n      <td>ffb64e34a37740dafb6c88f1abd1fa61</td>\n      <td>2017-08-25 20:50:19</td>\n      <td>106.20</td>\n      <td>9.56</td>\n      <td>1</td>\n      <td>credit_card</td>\n      <td>2</td>\n      <td>115.76</td>\n      <td>96.64</td>\n    </tr>\n    <tr>\n      <th>1</th>\n      <td>3442f8959a84dea7ee197c632cb2df15</td>\n      <td>13023</td>\n      <td>campinas</td>\n      <td>SP</td>\n      <td>6d953888a914b67350d5bc4d48f2acab</td>\n      <td>1</td>\n      <td>f4621f8ad6f54a2e3c408884068be46d</td>\n      <td>2017-05-11 16:25:11</td>\n      <td>101.70</td>\n      <td>15.92</td>\n      <td>1</td>\n      <td>credit_card</td>\n      <td>2</td>\n      <td>117.62</td>\n      <td>85.78</td>\n    </tr>\n    <tr>\n      <th>2</th>\n      <td>3442f8959a84dea7ee197c632cb2df15</td>\n      <td>13023</td>\n      <td>campinas</td>\n      <td>SP</td>\n      <td>bc8a5de6abf5b14f98a6135a7fb46731</td>\n      <td>2</td>\n      <td>325a06bcce0da45b7f4ecf2797dd40e4</td>\n      <td>2017-09-05 12:50:19</td>\n      <td>10.80</td>\n      <td>2.42</td>\n      <td>1</td>\n      <td>credit_card</td>\n      <td>4</td>\n      <td>158.80</td>\n      <td>8.38</td>\n    </tr>\n    <tr>\n      <th>3</th>\n      <td>8c16d1f32a54d92897cc437244442e1b</td>\n      <td>89023</td>\n      <td>blumenau</td>\n      <td>SC</td>\n      <td>bc8a5de6abf5b14f98a6135a7fb46731</td>\n      <td>1</td>\n      <td>1b37d55343061aa2b18b807945ff9831</td>\n      <td>2017-09-05 12:50:19</td>\n      <td>118.90</td>\n      <td>26.68</td>\n      <td>1</td>\n      <td>credit_card</td>\n      <td>4</td>\n      <td>158.80</td>\n      <td>92.22</td>\n    </tr>\n    <tr>\n      <th>4</th>\n      <td>d1b65fc7debc3361ea86b5f14c68d2e2</td>\n      <td>13844</td>\n      <td>mogi guacu</td>\n      <td>SP</td>\n      <td>035201c3c82a97f8a25dd6bd5244b2d5</td>\n      <td>1</td>\n      <td>1c36a5285f7f3b1ed2637d7c528ce5ff</td>\n      <td>2017-11-22 04:30:29</td>\n      <td>89.99</td>\n      <td>45.09</td>\n      <td>1</td>\n      <td>boleto</td>\n      <td>1</td>\n      <td>135.08</td>\n      <td>44.90</td>\n    </tr>\n    <tr>\n      <th>...</th>\n      <td>...</td>\n      <td>...</td>\n      <td>...</td>\n      <td>...</td>\n      <td>...</td>\n      <td>...</td>\n      <td>...</td>\n      <td>...</td>\n      <td>...</td>\n      <td>...</td>\n      <td>...</td>\n      <td>...</td>\n      <td>...</td>\n      <td>...</td>\n      <td>...</td>\n    </tr>\n    <tr>\n      <th>117596</th>\n      <td>e603cf3fec55f8697c9059638d6c8eb5</td>\n      <td>96080</td>\n      <td>pelotas</td>\n      <td>RS</td>\n      <td>7aa50aad959e4345b45b9732bc346a6e</td>\n      <td>1</td>\n      <td>e891d4a9622cae3b9fc2ec558bda155b</td>\n      <td>2017-03-10 04:03:43</td>\n      <td>27.00</td>\n      <td>16.05</td>\n      <td>1</td>\n      <td>boleto</td>\n      <td>1</td>\n      <td>43.05</td>\n      <td>10.95</td>\n    </tr>\n    <tr>\n      <th>117597</th>\n      <td>e603cf3fec55f8697c9059638d6c8eb5</td>\n      <td>96080</td>\n      <td>pelotas</td>\n      <td>RS</td>\n      <td>aae373a2cc64ed2d1f262aa56e70b7e8</td>\n      <td>1</td>\n      <td>e891d4a9622cae3b9fc2ec558bda155b</td>\n      <td>2017-02-15 16:42:59</td>\n      <td>27.00</td>\n      <td>10.96</td>\n      <td>1</td>\n      <td>credit_card</td>\n      <td>1</td>\n      <td>37.96</td>\n      <td>16.04</td>\n    </tr>\n    <tr>\n      <th>117598</th>\n      <td>e603cf3fec55f8697c9059638d6c8eb5</td>\n      <td>96080</td>\n      <td>pelotas</td>\n      <td>RS</td>\n      <td>bc34d5b185152cb88b9f5db391dcd1cb</td>\n      <td>1</td>\n      <td>e891d4a9622cae3b9fc2ec558bda155b</td>\n      <td>2017-04-11 18:05:17</td>\n      <td>27.00</td>\n      <td>16.05</td>\n      <td>1</td>\n      <td>credit_card</td>\n      <td>1</td>\n      <td>43.05</td>\n      <td>10.95</td>\n    </tr>\n    <tr>\n      <th>117599</th>\n      <td>e603cf3fec55f8697c9059638d6c8eb5</td>\n      <td>96080</td>\n      <td>pelotas</td>\n      <td>RS</td>\n      <td>d1edb80f6670902ebbb11765b96873da</td>\n      <td>1</td>\n      <td>e891d4a9622cae3b9fc2ec558bda155b</td>\n      <td>2017-06-26 17:30:16</td>\n      <td>27.00</td>\n      <td>12.48</td>\n      <td>1</td>\n      <td>credit_card</td>\n      <td>1</td>\n      <td>39.48</td>\n      <td>14.52</td>\n    </tr>\n    <tr>\n      <th>117600</th>\n      <td>9e25199f6ef7e7c347120ff175652c3b</td>\n      <td>12051</td>\n      <td>taubate</td>\n      <td>SP</td>\n      <td>f7b6b85f6fd2cf9aac15731dca998844</td>\n      <td>1</td>\n      <td>179bb56045bec397c52ef3c8183dabb6</td>\n      <td>2017-03-31 10:10:27</td>\n      <td>12.50</td>\n      <td>14.52</td>\n      <td>1</td>\n      <td>credit_card</td>\n      <td>1</td>\n      <td>27.02</td>\n      <td>-2.02</td>\n    </tr>\n  </tbody>\n</table>\n<p>117601 rows × 15 columns</p>\n</div>"
     },
     "metadata": {},
     "execution_count": 10
    }
   ],
   "source": [
    "sellersAndOrderItemsAndPayments = sellersAndOrderItems.merge(df_olist_order_payments)\n",
    "sellersAndOrderItemsAndPayments\n",
    "sellersAndOrderItemsAndPayments['price-freight_value'] = sellersAndOrderItemsAndPayments['price'] - sellersAndOrderItemsAndPayments['freight_value']\n",
    "sellersAndOrderItemsAndPayments"
   ],
   "metadata": {
    "collapsed": false,
    "pycharm": {
     "name": "#%%\n",
     "is_executing": false
    }
   }
  },
  {
   "cell_type": "code",
   "execution_count": 11,
   "outputs": [
    {
     "output_type": "error",
     "ename": "TypeError",
     "evalue": "unsupported operand type(s) for -: 'str' and 'str'",
     "traceback": [
      "\u001b[1;31m---------------------------------------------------------------------------\u001b[0m",
      "\u001b[1;31mTypeError\u001b[0m                                 Traceback (most recent call last)",
      "\u001b[1;32mC:\\ProgramData\\Anaconda3\\lib\\site-packages\\pandas\\core\\ops\\array_ops.py\u001b[0m in \u001b[0;36mna_arithmetic_op\u001b[1;34m(left, right, op, str_rep)\u001b[0m\n\u001b[0;32m    148\u001b[0m     \u001b[1;32mtry\u001b[0m\u001b[1;33m:\u001b[0m\u001b[1;33m\u001b[0m\u001b[1;33m\u001b[0m\u001b[0m\n\u001b[1;32m--> 149\u001b[1;33m         \u001b[0mresult\u001b[0m \u001b[1;33m=\u001b[0m \u001b[0mexpressions\u001b[0m\u001b[1;33m.\u001b[0m\u001b[0mevaluate\u001b[0m\u001b[1;33m(\u001b[0m\u001b[0mop\u001b[0m\u001b[1;33m,\u001b[0m \u001b[0mstr_rep\u001b[0m\u001b[1;33m,\u001b[0m \u001b[0mleft\u001b[0m\u001b[1;33m,\u001b[0m \u001b[0mright\u001b[0m\u001b[1;33m)\u001b[0m\u001b[1;33m\u001b[0m\u001b[1;33m\u001b[0m\u001b[0m\n\u001b[0m\u001b[0;32m    150\u001b[0m     \u001b[1;32mexcept\u001b[0m \u001b[0mTypeError\u001b[0m\u001b[1;33m:\u001b[0m\u001b[1;33m\u001b[0m\u001b[1;33m\u001b[0m\u001b[0m\n",
      "\u001b[1;32mC:\\ProgramData\\Anaconda3\\lib\\site-packages\\pandas\\core\\computation\\expressions.py\u001b[0m in \u001b[0;36mevaluate\u001b[1;34m(op, op_str, a, b, use_numexpr)\u001b[0m\n\u001b[0;32m    207\u001b[0m     \u001b[1;32mif\u001b[0m \u001b[0muse_numexpr\u001b[0m\u001b[1;33m:\u001b[0m\u001b[1;33m\u001b[0m\u001b[1;33m\u001b[0m\u001b[0m\n\u001b[1;32m--> 208\u001b[1;33m         \u001b[1;32mreturn\u001b[0m \u001b[0m_evaluate\u001b[0m\u001b[1;33m(\u001b[0m\u001b[0mop\u001b[0m\u001b[1;33m,\u001b[0m \u001b[0mop_str\u001b[0m\u001b[1;33m,\u001b[0m \u001b[0ma\u001b[0m\u001b[1;33m,\u001b[0m \u001b[0mb\u001b[0m\u001b[1;33m)\u001b[0m\u001b[1;33m\u001b[0m\u001b[1;33m\u001b[0m\u001b[0m\n\u001b[0m\u001b[0;32m    209\u001b[0m     \u001b[1;32mreturn\u001b[0m \u001b[0m_evaluate_standard\u001b[0m\u001b[1;33m(\u001b[0m\u001b[0mop\u001b[0m\u001b[1;33m,\u001b[0m \u001b[0mop_str\u001b[0m\u001b[1;33m,\u001b[0m \u001b[0ma\u001b[0m\u001b[1;33m,\u001b[0m \u001b[0mb\u001b[0m\u001b[1;33m)\u001b[0m\u001b[1;33m\u001b[0m\u001b[1;33m\u001b[0m\u001b[0m\n",
      "\u001b[1;32mC:\\ProgramData\\Anaconda3\\lib\\site-packages\\pandas\\core\\computation\\expressions.py\u001b[0m in \u001b[0;36m_evaluate_numexpr\u001b[1;34m(op, op_str, a, b)\u001b[0m\n\u001b[0;32m    120\u001b[0m     \u001b[1;32mif\u001b[0m \u001b[0mresult\u001b[0m \u001b[1;32mis\u001b[0m \u001b[1;32mNone\u001b[0m\u001b[1;33m:\u001b[0m\u001b[1;33m\u001b[0m\u001b[1;33m\u001b[0m\u001b[0m\n\u001b[1;32m--> 121\u001b[1;33m         \u001b[0mresult\u001b[0m \u001b[1;33m=\u001b[0m \u001b[0m_evaluate_standard\u001b[0m\u001b[1;33m(\u001b[0m\u001b[0mop\u001b[0m\u001b[1;33m,\u001b[0m \u001b[0mop_str\u001b[0m\u001b[1;33m,\u001b[0m \u001b[0ma\u001b[0m\u001b[1;33m,\u001b[0m \u001b[0mb\u001b[0m\u001b[1;33m)\u001b[0m\u001b[1;33m\u001b[0m\u001b[1;33m\u001b[0m\u001b[0m\n\u001b[0m\u001b[0;32m    122\u001b[0m \u001b[1;33m\u001b[0m\u001b[0m\n",
      "\u001b[1;32mC:\\ProgramData\\Anaconda3\\lib\\site-packages\\pandas\\core\\computation\\expressions.py\u001b[0m in \u001b[0;36m_evaluate_standard\u001b[1;34m(op, op_str, a, b)\u001b[0m\n\u001b[0;32m     69\u001b[0m     \u001b[1;32mwith\u001b[0m \u001b[0mnp\u001b[0m\u001b[1;33m.\u001b[0m\u001b[0merrstate\u001b[0m\u001b[1;33m(\u001b[0m\u001b[0mall\u001b[0m\u001b[1;33m=\u001b[0m\u001b[1;34m\"ignore\"\u001b[0m\u001b[1;33m)\u001b[0m\u001b[1;33m:\u001b[0m\u001b[1;33m\u001b[0m\u001b[1;33m\u001b[0m\u001b[0m\n\u001b[1;32m---> 70\u001b[1;33m         \u001b[1;32mreturn\u001b[0m \u001b[0mop\u001b[0m\u001b[1;33m(\u001b[0m\u001b[0ma\u001b[0m\u001b[1;33m,\u001b[0m \u001b[0mb\u001b[0m\u001b[1;33m)\u001b[0m\u001b[1;33m\u001b[0m\u001b[1;33m\u001b[0m\u001b[0m\n\u001b[0m\u001b[0;32m     71\u001b[0m \u001b[1;33m\u001b[0m\u001b[0m\n",
      "\u001b[1;31mTypeError\u001b[0m: unsupported operand type(s) for -: 'str' and 'str'",
      "\nDuring handling of the above exception, another exception occurred:\n",
      "\u001b[1;31mTypeError\u001b[0m                                 Traceback (most recent call last)",
      "\u001b[1;32m<ipython-input-11-e780e54c9956>\u001b[0m in \u001b[0;36m<module>\u001b[1;34m\u001b[0m\n\u001b[1;32m----> 1\u001b[1;33m \u001b[0mordersAndCustomers\u001b[0m\u001b[1;33m[\u001b[0m\u001b[1;34m'Wait time'\u001b[0m\u001b[1;33m]\u001b[0m \u001b[1;33m=\u001b[0m \u001b[0mordersAndCustomers\u001b[0m\u001b[1;33m[\u001b[0m\u001b[1;34m'order_estimated_delivery_date'\u001b[0m\u001b[1;33m]\u001b[0m \u001b[1;33m-\u001b[0m \u001b[0mordersAndCustomers\u001b[0m\u001b[1;33m[\u001b[0m\u001b[1;34m'order_delivered_customer_date'\u001b[0m\u001b[1;33m]\u001b[0m\u001b[1;33m\u001b[0m\u001b[1;33m\u001b[0m\u001b[0m\n\u001b[0m",
      "\u001b[1;32mC:\\ProgramData\\Anaconda3\\lib\\site-packages\\pandas\\core\\ops\\common.py\u001b[0m in \u001b[0;36mnew_method\u001b[1;34m(self, other)\u001b[0m\n\u001b[0;32m     62\u001b[0m         \u001b[0mother\u001b[0m \u001b[1;33m=\u001b[0m \u001b[0mitem_from_zerodim\u001b[0m\u001b[1;33m(\u001b[0m\u001b[0mother\u001b[0m\u001b[1;33m)\u001b[0m\u001b[1;33m\u001b[0m\u001b[1;33m\u001b[0m\u001b[0m\n\u001b[0;32m     63\u001b[0m \u001b[1;33m\u001b[0m\u001b[0m\n\u001b[1;32m---> 64\u001b[1;33m         \u001b[1;32mreturn\u001b[0m \u001b[0mmethod\u001b[0m\u001b[1;33m(\u001b[0m\u001b[0mself\u001b[0m\u001b[1;33m,\u001b[0m \u001b[0mother\u001b[0m\u001b[1;33m)\u001b[0m\u001b[1;33m\u001b[0m\u001b[1;33m\u001b[0m\u001b[0m\n\u001b[0m\u001b[0;32m     65\u001b[0m \u001b[1;33m\u001b[0m\u001b[0m\n\u001b[0;32m     66\u001b[0m     \u001b[1;32mreturn\u001b[0m \u001b[0mnew_method\u001b[0m\u001b[1;33m\u001b[0m\u001b[1;33m\u001b[0m\u001b[0m\n",
      "\u001b[1;32mC:\\ProgramData\\Anaconda3\\lib\\site-packages\\pandas\\core\\ops\\__init__.py\u001b[0m in \u001b[0;36mwrapper\u001b[1;34m(left, right)\u001b[0m\n\u001b[0;32m    498\u001b[0m         \u001b[0mlvalues\u001b[0m \u001b[1;33m=\u001b[0m \u001b[0mextract_array\u001b[0m\u001b[1;33m(\u001b[0m\u001b[0mleft\u001b[0m\u001b[1;33m,\u001b[0m \u001b[0mextract_numpy\u001b[0m\u001b[1;33m=\u001b[0m\u001b[1;32mTrue\u001b[0m\u001b[1;33m)\u001b[0m\u001b[1;33m\u001b[0m\u001b[1;33m\u001b[0m\u001b[0m\n\u001b[0;32m    499\u001b[0m         \u001b[0mrvalues\u001b[0m \u001b[1;33m=\u001b[0m \u001b[0mextract_array\u001b[0m\u001b[1;33m(\u001b[0m\u001b[0mright\u001b[0m\u001b[1;33m,\u001b[0m \u001b[0mextract_numpy\u001b[0m\u001b[1;33m=\u001b[0m\u001b[1;32mTrue\u001b[0m\u001b[1;33m)\u001b[0m\u001b[1;33m\u001b[0m\u001b[1;33m\u001b[0m\u001b[0m\n\u001b[1;32m--> 500\u001b[1;33m         \u001b[0mresult\u001b[0m \u001b[1;33m=\u001b[0m \u001b[0marithmetic_op\u001b[0m\u001b[1;33m(\u001b[0m\u001b[0mlvalues\u001b[0m\u001b[1;33m,\u001b[0m \u001b[0mrvalues\u001b[0m\u001b[1;33m,\u001b[0m \u001b[0mop\u001b[0m\u001b[1;33m,\u001b[0m \u001b[0mstr_rep\u001b[0m\u001b[1;33m)\u001b[0m\u001b[1;33m\u001b[0m\u001b[1;33m\u001b[0m\u001b[0m\n\u001b[0m\u001b[0;32m    501\u001b[0m \u001b[1;33m\u001b[0m\u001b[0m\n\u001b[0;32m    502\u001b[0m         \u001b[1;32mreturn\u001b[0m \u001b[0m_construct_result\u001b[0m\u001b[1;33m(\u001b[0m\u001b[0mleft\u001b[0m\u001b[1;33m,\u001b[0m \u001b[0mresult\u001b[0m\u001b[1;33m,\u001b[0m \u001b[0mindex\u001b[0m\u001b[1;33m=\u001b[0m\u001b[0mleft\u001b[0m\u001b[1;33m.\u001b[0m\u001b[0mindex\u001b[0m\u001b[1;33m,\u001b[0m \u001b[0mname\u001b[0m\u001b[1;33m=\u001b[0m\u001b[0mres_name\u001b[0m\u001b[1;33m)\u001b[0m\u001b[1;33m\u001b[0m\u001b[1;33m\u001b[0m\u001b[0m\n",
      "\u001b[1;32mC:\\ProgramData\\Anaconda3\\lib\\site-packages\\pandas\\core\\ops\\array_ops.py\u001b[0m in \u001b[0;36marithmetic_op\u001b[1;34m(left, right, op, str_rep)\u001b[0m\n\u001b[0;32m    195\u001b[0m     \u001b[1;32melse\u001b[0m\u001b[1;33m:\u001b[0m\u001b[1;33m\u001b[0m\u001b[1;33m\u001b[0m\u001b[0m\n\u001b[0;32m    196\u001b[0m         \u001b[1;32mwith\u001b[0m \u001b[0mnp\u001b[0m\u001b[1;33m.\u001b[0m\u001b[0merrstate\u001b[0m\u001b[1;33m(\u001b[0m\u001b[0mall\u001b[0m\u001b[1;33m=\u001b[0m\u001b[1;34m\"ignore\"\u001b[0m\u001b[1;33m)\u001b[0m\u001b[1;33m:\u001b[0m\u001b[1;33m\u001b[0m\u001b[1;33m\u001b[0m\u001b[0m\n\u001b[1;32m--> 197\u001b[1;33m             \u001b[0mres_values\u001b[0m \u001b[1;33m=\u001b[0m \u001b[0mna_arithmetic_op\u001b[0m\u001b[1;33m(\u001b[0m\u001b[0mlvalues\u001b[0m\u001b[1;33m,\u001b[0m \u001b[0mrvalues\u001b[0m\u001b[1;33m,\u001b[0m \u001b[0mop\u001b[0m\u001b[1;33m,\u001b[0m \u001b[0mstr_rep\u001b[0m\u001b[1;33m)\u001b[0m\u001b[1;33m\u001b[0m\u001b[1;33m\u001b[0m\u001b[0m\n\u001b[0m\u001b[0;32m    198\u001b[0m \u001b[1;33m\u001b[0m\u001b[0m\n\u001b[0;32m    199\u001b[0m     \u001b[1;32mreturn\u001b[0m \u001b[0mres_values\u001b[0m\u001b[1;33m\u001b[0m\u001b[1;33m\u001b[0m\u001b[0m\n",
      "\u001b[1;32mC:\\ProgramData\\Anaconda3\\lib\\site-packages\\pandas\\core\\ops\\array_ops.py\u001b[0m in \u001b[0;36mna_arithmetic_op\u001b[1;34m(left, right, op, str_rep)\u001b[0m\n\u001b[0;32m    149\u001b[0m         \u001b[0mresult\u001b[0m \u001b[1;33m=\u001b[0m \u001b[0mexpressions\u001b[0m\u001b[1;33m.\u001b[0m\u001b[0mevaluate\u001b[0m\u001b[1;33m(\u001b[0m\u001b[0mop\u001b[0m\u001b[1;33m,\u001b[0m \u001b[0mstr_rep\u001b[0m\u001b[1;33m,\u001b[0m \u001b[0mleft\u001b[0m\u001b[1;33m,\u001b[0m \u001b[0mright\u001b[0m\u001b[1;33m)\u001b[0m\u001b[1;33m\u001b[0m\u001b[1;33m\u001b[0m\u001b[0m\n\u001b[0;32m    150\u001b[0m     \u001b[1;32mexcept\u001b[0m \u001b[0mTypeError\u001b[0m\u001b[1;33m:\u001b[0m\u001b[1;33m\u001b[0m\u001b[1;33m\u001b[0m\u001b[0m\n\u001b[1;32m--> 151\u001b[1;33m         \u001b[0mresult\u001b[0m \u001b[1;33m=\u001b[0m \u001b[0mmasked_arith_op\u001b[0m\u001b[1;33m(\u001b[0m\u001b[0mleft\u001b[0m\u001b[1;33m,\u001b[0m \u001b[0mright\u001b[0m\u001b[1;33m,\u001b[0m \u001b[0mop\u001b[0m\u001b[1;33m)\u001b[0m\u001b[1;33m\u001b[0m\u001b[1;33m\u001b[0m\u001b[0m\n\u001b[0m\u001b[0;32m    152\u001b[0m \u001b[1;33m\u001b[0m\u001b[0m\n\u001b[0;32m    153\u001b[0m     \u001b[1;32mreturn\u001b[0m \u001b[0mmissing\u001b[0m\u001b[1;33m.\u001b[0m\u001b[0mdispatch_fill_zeros\u001b[0m\u001b[1;33m(\u001b[0m\u001b[0mop\u001b[0m\u001b[1;33m,\u001b[0m \u001b[0mleft\u001b[0m\u001b[1;33m,\u001b[0m \u001b[0mright\u001b[0m\u001b[1;33m,\u001b[0m \u001b[0mresult\u001b[0m\u001b[1;33m)\u001b[0m\u001b[1;33m\u001b[0m\u001b[1;33m\u001b[0m\u001b[0m\n",
      "\u001b[1;32mC:\\ProgramData\\Anaconda3\\lib\\site-packages\\pandas\\core\\ops\\array_ops.py\u001b[0m in \u001b[0;36mmasked_arith_op\u001b[1;34m(x, y, op)\u001b[0m\n\u001b[0;32m     92\u001b[0m         \u001b[1;32mif\u001b[0m \u001b[0mmask\u001b[0m\u001b[1;33m.\u001b[0m\u001b[0many\u001b[0m\u001b[1;33m(\u001b[0m\u001b[1;33m)\u001b[0m\u001b[1;33m:\u001b[0m\u001b[1;33m\u001b[0m\u001b[1;33m\u001b[0m\u001b[0m\n\u001b[0;32m     93\u001b[0m             \u001b[1;32mwith\u001b[0m \u001b[0mnp\u001b[0m\u001b[1;33m.\u001b[0m\u001b[0merrstate\u001b[0m\u001b[1;33m(\u001b[0m\u001b[0mall\u001b[0m\u001b[1;33m=\u001b[0m\u001b[1;34m\"ignore\"\u001b[0m\u001b[1;33m)\u001b[0m\u001b[1;33m:\u001b[0m\u001b[1;33m\u001b[0m\u001b[1;33m\u001b[0m\u001b[0m\n\u001b[1;32m---> 94\u001b[1;33m                 \u001b[0mresult\u001b[0m\u001b[1;33m[\u001b[0m\u001b[0mmask\u001b[0m\u001b[1;33m]\u001b[0m \u001b[1;33m=\u001b[0m \u001b[0mop\u001b[0m\u001b[1;33m(\u001b[0m\u001b[0mxrav\u001b[0m\u001b[1;33m[\u001b[0m\u001b[0mmask\u001b[0m\u001b[1;33m]\u001b[0m\u001b[1;33m,\u001b[0m \u001b[0myrav\u001b[0m\u001b[1;33m[\u001b[0m\u001b[0mmask\u001b[0m\u001b[1;33m]\u001b[0m\u001b[1;33m)\u001b[0m\u001b[1;33m\u001b[0m\u001b[1;33m\u001b[0m\u001b[0m\n\u001b[0m\u001b[0;32m     95\u001b[0m \u001b[1;33m\u001b[0m\u001b[0m\n\u001b[0;32m     96\u001b[0m     \u001b[1;32melse\u001b[0m\u001b[1;33m:\u001b[0m\u001b[1;33m\u001b[0m\u001b[1;33m\u001b[0m\u001b[0m\n",
      "\u001b[1;31mTypeError\u001b[0m: unsupported operand type(s) for -: 'str' and 'str'"
     ]
    }
   ],
   "source": [
    "ordersAndCustomers['Wait time'] = ordersAndCustomers['order_estimated_delivery_date'] - ordersAndCustomers['order_delivered_customer_date']\n"
   ],
   "metadata": {
    "collapsed": false,
    "pycharm": {
     "name": "#%%\n",
     "is_executing": false
    }
   }
  }
 ],
 "metadata": {
  "kernelspec": {
   "display_name": "Python 3",
   "language": "python",
   "name": "python3"
  },
  "language_info": {
   "codemirror_mode": {
    "name": "ipython",
    "version": 2
   },
   "file_extension": ".py",
   "mimetype": "text/x-python",
   "name": "python",
   "nbconvert_exporter": "python",
   "pygments_lexer": "ipython2",
   "version": "3.7.6-final"
  },
  "pycharm": {
   "stem_cell": {
    "cell_type": "raw",
    "source": [],
    "metadata": {
     "collapsed": false
    }
   }
  }
 },
 "nbformat": 4,
 "nbformat_minor": 0
}